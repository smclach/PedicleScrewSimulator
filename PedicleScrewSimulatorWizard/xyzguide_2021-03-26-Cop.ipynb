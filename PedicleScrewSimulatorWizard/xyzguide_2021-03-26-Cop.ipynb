{
 "cells": [
  {
   "cell_type": "markdown",
   "metadata": {},
   "source": [
    "# Class ThrDGuide"
   ]
  },
  {
   "cell_type": "code",
   "execution_count": null,
   "metadata": {
    "tags": []
   },
   "outputs": [],
   "source": [
    "import decimal\n",
    "import math\n",
    "import PythonQt\n",
    "# from __main__ import qt, ctk, slicer\n",
    "import numpy as np\n",
    "import vtk"
   ]
  },
  {
   "cell_type": "markdown",
   "metadata": {},
   "source": [
    "### 颜色德芙"
   ]
  },
  {
   "cell_type": "code",
   "execution_count": 4,
   "metadata": {
    "ExecuteTime": {
     "end_time": "2020-10-24T07:04:59.100991Z",
     "start_time": "2020-10-24T07:04:59.99117Z"
    },
    "tags": []
   },
   "outputs": [],
   "source": [
    "def myColor(colorName):\n",
    "  if colorName == \"red\":\n",
    "    colorArr = [1,0,0]\n",
    "  elif colorName == \"green\":\n",
    "    colorArr = [0,1,0]\n",
    "  elif colorName == \"blue\":\n",
    "    colorArr = [0,0,1]\n",
    "  elif colorName == \"black\":\n",
    "    colorArr = [0,0,0]\n",
    "  elif colorName == \"white\":\n",
    "    colorArr = [1,1,1]\n",
    "  elif colorName == \"yellow\":\n",
    "    colorArr = [1,1,0]\n",
    "  elif colorName == \"pink\":\n",
    "    colorArr = [1,0,1]\n",
    "  elif colorName == \"cyan\":\n",
    "    colorArr = [0,1,1]\n",
    "  return(colorArr)"
   ]
  },
  {
   "cell_type": "markdown",
   "metadata": {},
   "source": [
    "### 皮肤德芙"
   ]
  },
  {
   "cell_type": "code",
   "execution_count": 5,
   "metadata": {
    "ExecuteTime": {
     "end_time": "2020-10-24T07:39:45.673899Z",
     "start_time": "2020-10-24T07:39:45.662941Z"
    },
    "tags": []
   },
   "outputs": [],
   "source": [
    "# 皮肤模板\n",
    "\n",
    "def skinSur(VolumeNode='CTchest', MiniThresd=\"150\", Islands = 1, NodeName=\"Skintempt\", color=\"yellow\", opacity=.8):\n",
    "\n",
    "  masterVolumeNode =slicer.util.getNode(VolumeNode)\n",
    "\n",
    "  # Create segmentation\n",
    "  segmentationNode = slicer.mrmlScene.AddNewNodeByClass(\"vtkMRMLSegmentationNode\")\n",
    "  segmentationNode.CreateDefaultDisplayNodes()  # only needed for display\n",
    "  segmentationNode.SetReferenceImageGeometryParameterFromVolumeNode(masterVolumeNode)\n",
    "  addedSegmentID = segmentationNode.GetSegmentation().AddEmptySegment(\"skin\")\n",
    "\n",
    "  # Create segment editor to get access to effects\n",
    "  segmentEditorWidget = slicer.qMRMLSegmentEditorWidget()\n",
    "  segmentEditorWidget.setMRMLScene(slicer.mrmlScene)\n",
    "  segmentEditorNode = slicer.mrmlScene.AddNewNodeByClass(\"vtkMRMLSegmentEditorNode\")\n",
    "  segmentEditorWidget.setMRMLSegmentEditorNode(segmentEditorNode)\n",
    "  segmentEditorWidget.setSegmentationNode(segmentationNode)\n",
    "  segmentEditorWidget.setMasterVolumeNode(masterVolumeNode)\n",
    "\n",
    "  # Thresholding\n",
    "  segmentEditorWidget.setActiveEffectByName(\"Threshold\")\n",
    "  effect = segmentEditorWidget.activeEffect()\n",
    "  effect.setParameter(\"MinimumThreshold\", MiniThresd)\n",
    "  # effect.setParameter(\"MaximumThreshold\",\"695\")\n",
    "  effect.self().onApply()\n",
    "\n",
    "  # Islands\n",
    "  if Islands == 1:\n",
    "    segmentEditorWidget.setActiveEffectByName(\"Islands\")\n",
    "    effect = segmentEditorWidget.activeEffect()\n",
    "    effect.setParameter(\"Operation\", \"KEEP_LARGEST_ISLAND\")\n",
    "    effect.self().onApply()\n",
    "  # Dialate\n",
    "  segmentEditorWidget.setActiveEffectByName(\"Margin\")\n",
    "  effect = segmentEditorWidget.activeEffect()\n",
    "  effect.setParameter(\"MarginSizeMm\", .1)\n",
    "  effect.self().onApply()\n",
    "\n",
    "  # # HoleFilling\n",
    "  # segmentEditorWidget.setActiveEffectByName(\"Smoothing\")\n",
    "  # effect = segmentEditorWidget.activeEffect()\n",
    "  # effect.setParameter(\"SmoothingMethod\", \"CLOSING\")\n",
    "  # effect.setParameter(\"KernalSizeMm\", 4.00)\n",
    "  # effect.self().onApply()\n",
    "\n",
    "  # Smoothing\n",
    "  # segmentEditorWidget.setActiveEffectByName(\"Smoothing\")\n",
    "  # effect = segmentEditorWidget.activeEffect()\n",
    "  # effect.setParameter(\"SmoothingMethod\", \"MEDIAN\")\n",
    "  # effect.setParameter(\"KernelSizeMm\", 11)\n",
    "  # effect.self().onApply()\n",
    "\n",
    "  # Clean up\n",
    "  segmentEditorWidget = None\n",
    "  slicer.mrmlScene.RemoveNode(segmentEditorNode)\n",
    "\n",
    "  # Make segmentation results visible in 3D\n",
    "  segmentationNode.CreateClosedSurfaceRepresentation()\n",
    "\n",
    "  polyData = vtk.vtkPolyData()\n",
    "\n",
    "  # Make sure surface mesh cells are consistently oriented\n",
    "  surfaceMesh = segmentationNode.GetClosedSurfaceRepresentation(addedSegmentID, polyData)\n",
    "  normals = vtk.vtkPolyDataNormals()\n",
    "  normals.AutoOrientNormalsOn()\n",
    "  normals.ConsistencyOn()\n",
    "  normals.SetInputData(polyData)\n",
    "  normals.Update()\n",
    "  surfaceMesh = normals.GetOutput()\n",
    "\n",
    "  vtkNode = slicer.modules.models.logic().AddModel(surfaceMesh)\n",
    "  vtkNode.SetName(NodeName)\n",
    "\n",
    "  modelDisplay = vtkNode.GetDisplayNode()\n",
    "  modelDisplay.SetColor(myColor(color))  # yellow\n",
    "  modelDisplay.SetOpacity(opacity)\n",
    "  modelDisplay.SetBackfaceCulling(0)\n",
    "  # modelDisplay.SetVisibility(1)\n",
    "  modelDisplay.SetSliceIntersectionVisibility(True)\n",
    "\n",
    "  slicer.mrmlScene.RemoveNode(segmentationNode)\n",
    "  return()"
   ]
  },
  {
   "cell_type": "code",
   "execution_count": 6,
   "metadata": {
    "ExecuteTime": {
     "end_time": "2020-10-24T00:33:16.707605Z",
     "start_time": "2020-10-24T00:33:14.789647Z"
    }
   },
   "outputs": [
    {
     "ename": "MRMLNodeNotFoundException",
     "evalue": "could not find nodes in the scene by name or id 'CT-chest'",
     "output_type": "error",
     "traceback": [
      "\u001B[0;31m---------------------------------------------------------------------------\u001B[0m\n\u001B[0;31mMRMLNodeNotFoundException\u001B[0m                 Traceback (most recent call last)",
      "In  \u001B[0;34m[6]\u001B[0m:\nLine \u001B[0;34m1\u001B[0m:     \n",
      "In  \u001B[0;34m[5]\u001B[0m:\nLine \u001B[0;34m5\u001B[0m:     \n",
      "File \u001B[0;34m/Applications/Slicer 3.app/Contents/bin/Python/slicer/util.py\u001B[0m, in \u001B[0;32mgetNode\u001B[0m:\nLine \u001B[0;34m1137\u001B[0m:  \u001B[34mraise\u001B[39;49;00m MRMLNodeNotFoundException(\u001B[33m\"\u001B[39;49;00m\u001B[33mcould not find nodes in the scene by name or id \u001B[39;49;00m\u001B[33m'\u001B[39;49;00m\u001B[33m%s\u001B[39;49;00m\u001B[33m'\u001B[39;49;00m\u001B[33m\"\u001B[39;49;00m % (pattern \u001B[34mif\u001B[39;49;00m (\u001B[36misinstance\u001B[39;49;00m(pattern, \u001B[36mstr\u001B[39;49;00m)) \u001B[34melse\u001B[39;49;00m \u001B[33m\"\u001B[39;49;00m\u001B[33m\"\u001B[39;49;00m))\n",
      "\u001B[0;31mMRMLNodeNotFoundException\u001B[0m: could not find nodes in the scene by name or id 'CT-chest'\n\u001B[0;31m---------------------------------------------------------------------------\u001B[0m"
     ]
    }
   ],
   "source": [
    "# skinSur(VolumeNode = 'CT-chest',MiniThresd = \"100\",NodeName = \"Bonetempt1\",color = \"blue\")"
   ]
  },
  {
   "cell_type": "markdown",
   "metadata": {},
   "source": [
    "### 三点更新切面\n",
    "\n",
    "[Set slice position and orientation from 3 markup fiducials](https://www.slicer.org/wiki/Documentation/Nightly/ScriptRepository#Measure_angle_between_two_slice_planes)\n",
    "通过三个点，使得Red面reform"
   ]
  },
  {
   "cell_type": "code",
   "execution_count": 23,
   "metadata": {
    "tags": []
   },
   "outputs": [],
   "source": [
    "# Update plane from fiducial points\n",
    "def UpdateSlicePlane(param1=None, param2=None):\n",
    "  # Get point positions as numpy array\n",
    "  import numpy as np\n",
    "  nOfFiduciallPoints = markups.GetNumberOfFiducials()\n",
    "  if nOfFiduciallPoints < 3:\n",
    "    return  # not enough points\n",
    "  points = np.zeros([3,nOfFiduciallPoints])\n",
    "  for i in range(0, nOfFiduciallPoints):\n",
    "    markups.GetNthFiducialPosition(i, points[:,i])\n",
    "  # Compute plane position and normal\n",
    "  planePosition = points.mean(axis=1)\n",
    "  planeNormal = np.cross(points[:,1] - points[:,0], points[:,2] - points[:,0])\n",
    "  planeX = points[:,1] - points[:,0]\n",
    "  sliceNode.SetSliceToRASByNTP(planeNormal[0], planeNormal[1], planeNormal[2],\n",
    "                               planeX[0], planeX[1], planeX[2],\n",
    "                               planePosition[0], planePosition[1], planePosition[2], 0)\n",
    "\n",
    "# # Get markup node from scene\n",
    "# sliceNode = slicer.app.layoutManager().sliceWidget('Red').mrmlSliceNode()\n",
    "# markups = slicer.util.getNode('F')\n",
    "\n",
    "# # Update slice plane manually\n",
    "# UpdateSlicePlane()\n",
    "\n",
    "# # Update slice plane automatically whenever points are changed\n",
    "# markupObservation = [markups, markups.AddObserver(slicer.vtkMRMLMarkupsNode.PointModifiedEvent, UpdateSlicePlane, 2)]\n",
    "\n",
    "# markupObservation[0].RemoveObserver(markupObservation[1]) # 停止更新"
   ]
  },
  {
   "cell_type": "markdown",
   "metadata": {},
   "source": [
    "### 加点德芙"
   ]
  },
  {
   "cell_type": "code",
   "execution_count": 430,
   "metadata": {
    "ExecuteTime": {
     "end_time": "2020-10-24T00:33:18.741725Z",
     "start_time": "2020-10-24T00:33:18.741211Z"
    },
    "tags": []
   },
   "outputs": [],
   "source": [
    "def AddPoint(xyz=[0,0,0],modelName=\"N\",r = .5,color = \"red\"):\n",
    "  Point = vtk.vtkSphereSource()\n",
    "  Point.SetCenter(xyz)\n",
    "  Point.SetRadius(r)\n",
    "  #     Point.SetPhiResolution(36)\n",
    "  #     Point.SetThetaResolution(36)\n",
    "\n",
    "  # VtkMapperPoint = vtk.vtkPolyDataMapper()\n",
    "  # VtkMapperPoint.SetInputConnection(VtkSourcePoint.GetOutputPort())\n",
    "\n",
    "  # VtkActorPoint = vtk.vtkActor()\n",
    "  # VtkActorPoint.SetMapper(VtkMapperPoint)\n",
    "  # VtkActorPoint.GetProperty().SetColor(1.0, 0.0, 0.0)\n",
    "\n",
    "  PointNode = slicer.modules.models.logic().AddModel(Point.GetOutputPort())\n",
    "  # PointNode.SetColor(1.0, 0.0, 0.0)\n",
    "  PointNode.SetName(modelName)\n",
    "  modelDisplay = PointNode.GetDisplayNode()\n",
    "  modelDisplay.SetColor(myColor(color)) # yellow\n",
    "  modelDisplay.SetOpacity(.9)\n",
    "  modelDisplay.SetBackfaceCulling(0)\n",
    "  return"
   ]
  },
  {
   "cell_type": "markdown",
   "metadata": {},
   "source": [
    "### 点对点棱柱"
   ]
  },
  {
   "cell_type": "code",
   "execution_count": 8,
   "metadata": {
    "ExecuteTime": {
     "end_time": "2020-10-24T08:13:33.590168Z",
     "start_time": "2020-10-24T08:13:33.583715Z"
    }
   },
   "outputs": [],
   "source": [
    "# class ReadPoint:        \n",
    "# ### 点对点正棱柱\n",
    "def p2pCyl(startPoint, endPoint, radius = 1, modName = \"Cyl\", plus = 5, Seg = 3, RotY = 0, TX = 0, color = \"red\",Opacity = 1):\n",
    "  # Create a cylinder.\n",
    "  # Cylinder height vector is (0,1,0).\n",
    "  # Cylinder center is in the middle of the cylinder\n",
    "  # 圆柱体为(0,1,0),中心=True\n",
    "  cylinderSource = vtk.vtkCylinderSource()\n",
    "  cylinderSource.SetRadius(radius)\n",
    "  cylinderSource.SetResolution(Seg)\n",
    "\n",
    "  # Generate a random start and end point\n",
    "  # startPoint = [0] * 3\n",
    "  # endPoint = [0] * 3\n",
    "\n",
    "  rng = vtk.vtkMinimalStandardRandomSequence()\n",
    "  rng.SetSeed(8775070)  # For testing.8775070\n",
    "\n",
    "  # Compute a basis\n",
    "  normalizedX = [0] * 3\n",
    "  normalizedY = [0] * 3\n",
    "  normalizedZ = [0] * 3\n",
    "\n",
    "  # The X axis is a vector from start to end\n",
    "  vtk.vtkMath.Subtract(endPoint, startPoint, normalizedX)\n",
    "  length = vtk.vtkMath.Norm(normalizedX)+plus\n",
    "  #     length = 20\n",
    "  vtk.vtkMath.Normalize(normalizedX)\n",
    "\n",
    "  # The Z axis is an arbitrary vector cross X\n",
    "  arbitrary = [0] * 3\n",
    "  for i in range(0, 3):\n",
    "    rng.Next()\n",
    "    arbitrary[i] = rng.GetRangeValue(-10, 10)\n",
    "  vtk.vtkMath.Cross(normalizedX, arbitrary, normalizedZ)\n",
    "  vtk.vtkMath.Normalize(normalizedZ)\n",
    "\n",
    "  # The Y axis is Z cross X\n",
    "  vtk.vtkMath.Cross(normalizedZ, normalizedX, normalizedY)\n",
    "  matrix = vtk.vtkMatrix4x4()\n",
    "  # Create the direction cosine matrix\n",
    "  matrix.Identity()\n",
    "  for i in range(0, 3):\n",
    "    matrix.SetElement(i, 0, normalizedX[i])\n",
    "    matrix.SetElement(i, 1, normalizedY[i])\n",
    "    matrix.SetElement(i, 2, normalizedZ[i])\n",
    "  # Apply the transforms\n",
    "  transform = vtk.vtkTransform()\n",
    "  transform.Translate(startPoint)  # translate to starting point\n",
    "  transform.Concatenate(matrix)  # apply direction cosines\n",
    "  transform.RotateZ(-90.0)  # align cylinder to x axis\n",
    "  transform.Scale(1.0, length, 1.0)  # scale along the height vector\n",
    "  transform.Translate(0, .5, 0)  # translate to start of cylinder\n",
    "  transform.RotateY(RotY)\n",
    "  transform.Translate(TX, 0, 0)\n",
    "\n",
    "  # Transform the polydata\n",
    "  transformPD = vtk.vtkTransformPolyDataFilter()\n",
    "  transformPD.SetTransform(transform)\n",
    "  transformPD.SetInputConnection(cylinderSource.GetOutputPort())\n",
    "\n",
    "  stlMapper = vtk.vtkPolyDataMapper()\n",
    "  stlMapper.SetInputConnection(transformPD.GetOutputPort())\n",
    "  vtkNode = slicer.modules.models.logic().AddModel(transformPD.GetOutputPort())\n",
    "  vtkNode.SetName(modName)\n",
    "  modelDisplay = vtkNode.GetDisplayNode()\n",
    "  modelDisplay.SetColor(myColor(color) )# yellow\n",
    "  modelDisplay.SetOpacity(Opacity)\n",
    "  modelDisplay.SetBackfaceCulling(0)\n",
    "\n",
    "  return"
   ]
  },
  {
   "cell_type": "markdown",
   "metadata": {},
   "source": [
    "### 求圆柱体坐标点"
   ]
  },
  {
   "cell_type": "code",
   "execution_count": 9,
   "metadata": {
    "ExecuteTime": {
     "end_time": "2020-10-24T00:33:34.427752Z",
     "start_time": "2020-10-24T00:33:34.427167Z"
    }
   },
   "outputs": [],
   "source": [
    "\n",
    "# ### 求圆柱体坐标点\n",
    "# class ReadPoint:\n",
    "def Pcoord(modName=\"CylR\"):\n",
    "  modelNode = slicer.util.getNode(modName) # get model\"tempt'\n",
    "  sr = modelNode.GetPolyData() # node to PolyData\n",
    "\n",
    "  pxyz = [0, 0, 0]\n",
    "  NumP = sr.GetNumberOfPoints()\n",
    "  #     polydata = sr\n",
    "  for i in range(NumP//2):\n",
    "    sr.GetPoint(i, pxyz)\n",
    "    if i == 0:\n",
    "\n",
    "      Pxyz= np.array([pxyz])\n",
    "\n",
    "    else:\n",
    "\n",
    "      Pxyz= np.append(Pxyz, np.array([pxyz]), axis=0)\n",
    "  #         slicer.mrmlScene.RemoveNode(modelNode)\n",
    "  return (Pxyz)"
   ]
  },
  {
   "cell_type": "markdown",
   "metadata": {},
   "source": [
    "### 延长线终点坐标Lpcoord(P0,P1,length=100)"
   ]
  },
  {
   "cell_type": "code",
   "execution_count": 446,
   "metadata": {},
   "outputs": [],
   "source": [
    "def Lpcoord(P0,P1,length=100):\n",
    "  p2pCyl(P0, P1, radius=0, modName=\"Cyl00\", plus=length, Seg=1, RotY=0, TX=0, color=\"cyan\", Opacity=1)\n",
    "  data = Pcoord(\"Cyl00\")[0]\n",
    "  AddPoint(data)\n",
    "  p2pline(P1,data)\n",
    "  modN = slicer.util.getNode(\"Cyl00\")\n",
    "  slicer.mrmlScene.RemoveNode(modN)\n",
    "  return data"
   ]
  },
  {
   "cell_type": "markdown",
   "metadata": {},
   "source": [
    "### 连点成线 p2pline(P0, P1, modelName=\"Line\")"
   ]
  },
  {
   "cell_type": "code",
   "execution_count": 280,
   "metadata": {
    "ExecuteTime": {
     "end_time": "2020-10-24T00:33:27.107511Z",
     "start_time": "2020-10-24T00:33:27.106860Z"
    }
   },
   "outputs": [],
   "source": [
    "# ### 在slicer中连点成线\n",
    "# class ReadPoint:\n",
    "def p2pline(P0, P1, modelName=\"Line\"):\n",
    "  points = vtk.vtkPoints()\n",
    "  points.SetNumberOfPoints(2)\n",
    "  points.SetPoint(0,   P0[0], P0[1], P0[2])\n",
    "  points.SetPoint(1,   P1[0], P1[1], P1[2])\n",
    "  line = vtk.vtkLineSource()\n",
    "  line.SetPoints(points)\n",
    "  lineNode = slicer.modules.models.logic().AddModel(line.GetOutputPort())\n",
    "  lineNode.SetName(modelName)"
   ]
  },
  {
   "cell_type": "markdown",
   "metadata": {},
   "source": [
    "### 射线sRayCast(p_source, p_target,modleName)"
   ]
  },
  {
   "cell_type": "code",
   "execution_count": 504,
   "metadata": {
    "ExecuteTime": {
     "end_time": "2020-10-24T00:33:36.697626Z",
     "start_time": "2020-10-24T00:33:36.696796Z"
    },
    "lines_to_next_cell": 0,
    "tags": []
   },
   "outputs": [],
   "source": [
    "# class ReadPoint:    \n",
    "def sRayCast(p_source, p_target,modleName):\n",
    "  '''\n",
    "\n",
    "  :param filename: STL file to perform ray casting on.\n",
    "  :param p_source: first point\n",
    "  :param p_target: second point\n",
    "  :return: code --> 0 : No intersection.\n",
    "  :return: code --> +1 : p_source lies OUTSIDE the closed surface.\n",
    "  :return; code --> -1 : p_source lies INSIDE closed surface\n",
    "\n",
    "  '''\n",
    "\n",
    "\n",
    "  # 注释掉stlreader,直接调用slicer中的modle\n",
    "  #     reader = vtk.vtkSTLReader()\n",
    "  #     reader.SetFileName(filename)\n",
    "  #     reader.Update()\n",
    "  #     mesh = reader.GetOutput()\n",
    "\n",
    "  modelNode = slicer.util.getNode(modleName)  # get model\"tempt'\n",
    "  mesh = modelNode.GetPolyData()  # node to PolyData\n",
    "\n",
    "\n",
    "  obbtree = vtk.vtkOBBTree()\n",
    "  obbtree.SetDataSet(mesh)\n",
    "  obbtree.BuildLocator()\n",
    "  pointsVTKIntersection = vtk.vtkPoints()\n",
    "  code = obbtree.IntersectWithLine(p_source, p_target, pointsVTKIntersection, None)\n",
    "  # Extracting data\n",
    "  pointsVTKIntersectionData = pointsVTKIntersection.GetData()\n",
    "  noPointsVTKIntersection = pointsVTKIntersectionData.GetNumberOfTuples()\n",
    "  if code == 1:\n",
    "    xP = pointsVTKIntersectionData.GetTuple3(0) # 2020年08月25日06:24:21 只取第一个点\n",
    "  #         p2p = np.linalg.norm(xP-p_source)\n",
    "  else:\n",
    "    xP = 0\n",
    "\n",
    "  #     xPL = np.array([np.hstack((xP,p2p))])\n",
    "\n",
    "\n",
    "  #     for idx in range(noPointsVTKIntersection):\n",
    "  #         _tup = pointsVTKIntersectionData.GetTuple3(idx)\n",
    "  #         XP = _tup\n",
    "  #     if code == 1:\n",
    "  #         xP = XP[0]\n",
    "  #         p2p = np.linalg.norm(xP-p_source) # 求距离\n",
    "  #     else:\n",
    "  #         xP = 0\n",
    "  #         p2p = 0\n",
    "\n",
    "\n",
    "  return xP\n"
   ]
  },
  {
   "cell_type": "code",
   "execution_count": null,
   "metadata": {
    "lines_to_next_cell": 2
   },
   "outputs": [],
   "source": []
  },
  {
   "cell_type": "markdown",
   "metadata": {},
   "source": [
    "### 读取数据德芙Pdata(fidNode = \"T\", groups = 2)"
   ]
  },
  {
   "cell_type": "code",
   "execution_count": null,
   "metadata": {},
   "outputs": [],
   "source": [
    "import plotly.graph_objects as go\n",
    "fig = go.Figure()\n",
    "fig.add_trace(go.Scatter(y=[2, 1, 4, 3]))\n",
    "fig.add_trace(go.Bar(y=[1, 4, 3, 2]))\n",
    "fig.update_layout(title = 'Hello Figure')\n",
    "fig.show()\n"
   ]
  },
  {
   "cell_type": "code",
   "execution_count": 519,
   "metadata": {
    "ExecuteTime": {
     "end_time": "2020-10-24T06:36:16.213550Z",
     "start_time": "2020-10-24T06:36:16.211875Z"
    }
   },
   "outputs": [],
   "source": [
    "# ### 读取\"F\"\n",
    "def Pdata(fidNode = \"T\", groups = 2):\n",
    "  # 定义fid列表\n",
    "  fidList = slicer.util.getNode(fidNode)\n",
    "  # 定义fid个数\n",
    "  Pdata.numFids = fidList.GetNumberOfFiducials()\n",
    "  # 读取每个fid点坐标,形成二维数组\n",
    "  for i in range(Pdata.numFids):\n",
    "    ras = [0,0,0]\n",
    "    fidList.GetNthFiducialPosition(i,ras)\n",
    "    if i == 0:\n",
    "      Mdata = np.array([ras])\n",
    "    else:\n",
    "      Mdata = np.append(Mdata, np.array([ras]), axis = 0)\n",
    "  #     logging.debug(Mdata)\n",
    "  data=np.array(Mdata).ravel()\n",
    "  zcount = int(data.size/6)\n",
    "  data = np.array(data.reshape(zcount, groups, 3))\n",
    "  #     ras = [-1,-1,1]*data # ras 坐标\n",
    "  return(data)"
   ]
  },
  {
   "cell_type": "markdown",
   "source": [
    "### 矫正椎前点"
   ],
   "metadata": {
    "collapsed": false,
    "pycharm": {
     "name": "#%% md\n"
    }
   }
  },
  {
   "cell_type": "code",
   "execution_count": null,
   "outputs": [],
   "source": [
    "data2 = data\n",
    "def centerP(Data):\n",
    "\tzhuitiNum = data2.shape[0]\n",
    "  for i in range(0,zhuitiNum):\n",
    "    P1 = data2[i,0]\n",
    "    P2 = data2[i,1]\n",
    "    P3 = data2[i,2]\n",
    "    Pa = (P2 + P3) / 2\n",
    "    #         clineL = np.linalg.norm(P3 - centerP)\n",
    "    # AddPoint(centerP)\n",
    "    P2P = np.linalg.norm(P3 - centerP)\n",
    "    # 在这里矫正P3点于垂直平分线\n",
    "    p2pCyl(centerP,P3,160,\"cFace\",-1*P2P,4,0,0,\"pink\",1)\n",
    "\n",
    "\n",
    "    zz0 = sRayCast(P1, P1+[20,0,0], \"cFace\")\n",
    "    if zz0 == np.array([]):\n",
    "      zz = sRayCast(P1, P1+[-20,0,0], \"cFace\")\n",
    "\n",
    "    else:\n",
    "      zz = zz0\n",
    "    AddPoint(zz)\n",
    "    # 垂直平分线长度\n",
    "    cpl = np.linalg.norm(centerP-zz)\n",
    "    # 中截面\n",
    "    cP = (centerP+zz)/2\n",
    "    p2pCyl(cP, zz, radius=36, modName=\"cface0\", plus=-8, Seg=4, RotY=0, TX=0,color=\"green\", Opacity=1)\n",
    "\n",
    "    p2pCyl(zz, centerP, radius=0, modName=\"Cyl00\", plus=cpl*CL, Seg=1, RotY=0, TX=0, color=\"green\", Opacity=1)\n",
    "\n",
    "\n",
    "    #         p2pCyl(P2, centerP, radius=1, modName=\"Cyl00\", plus=clineL, Seg=4, RotY=0, TX=-1, color=\"green\", Opacity=1)\n",
    "    data = Pcoord(\"Cyl00\")[1]\n",
    "    AddPoint(data2)\n",
    "    # 垂直平分线长度\n",
    "    if i == 0:\n",
    "      cPl = np.array([zz])\n",
    "    else:\n",
    "      cPl = np.append([cPl,zz])\n",
    "    #         modN = slicer.util.getNode(\"cFace\")\n",
    "    #         slicer.mrmlScene.RemoveNode(modN)\n",
    "    #         modN = slicer.util.getNode(\"Cyl00\")\n",
    "    #         slicer.mrmlScene.RemoveNode(modN)\n",
    "    if i == 0:\n",
    "      Data = P2\n",
    "      Data = np.append(Data,data2)\n",
    "      Data = np.append(Data,P3)\n",
    "      Data = np.append(Data,data2)\n",
    "    else:\n",
    "      Data = np.append(Data,P2)\n",
    "      Data = np.append(Data,data2)\n",
    "      Data = np.append(Data,P3)\n",
    "      Data = np.append(Data,data2)\n",
    "\n",
    "  Data = np.array(Data.reshape(Data.shape[0]//6,2,3))\n",
    "  return(Data)"
   ],
   "metadata": {
    "collapsed": false,
    "pycharm": {
     "name": "#%%\n"
    }
   }
  },
  {
   "cell_type": "markdown",
   "metadata": {},
   "source": [
    "### 读取3点数据 Pdata3(fidNode = \"T\", CL = 0)"
   ]
  },
  {
   "cell_type": "code",
   "execution_count": 518,
   "metadata": {
    "tags": []
   },
   "outputs": [],
   "source": [
    "# ### 读取\"F\"\n",
    "def Pdata3(fidNode = \"T\", CL = 0):\n",
    "  data = Pdata(fidNode,3)\n",
    "  #     ras = [-1,-1,1]*data # ras 坐标\n",
    "  for i in range(0,data.shape[0]):\n",
    "    #             for i in range(0,zcount):\n",
    "    P1 = data[i,0]\n",
    "    P2 = data[i,1]\n",
    "    P3 = data[i,2]\n",
    "    centerP = (P2 + P3) / 2\n",
    "    #         clineL = np.linalg.norm(P3 - centerP)\n",
    "    # AddPoint(centerP)\n",
    "    P2P = np.linalg.norm(P3 - centerP)\n",
    "    # 在这里矫正P3点于垂直平分线\n",
    "    p2pCyl(centerP,P3,160,\"cFace\",-1*P2P,4,0,0,\"pink\",1)\n",
    "\n",
    "\n",
    "    zz0 = sRayCast(P1, P1+[20,0,0], \"cFace\")\n",
    "    if zz0 == np.array([]):\n",
    "      zz = sRayCast(P1, P1+[-20,0,0], \"cFace\")\n",
    "\n",
    "    else:\n",
    "      zz = zz0\n",
    "    AddPoint(zz)\n",
    "    # 垂直平分线长度\n",
    "    cpl = np.linalg.norm(centerP-zz)\n",
    "    # 中截面\n",
    "    cP = (centerP+zz)/2\n",
    "    p2pCyl(cP, zz, radius=36, modName=\"cface0\", plus=-8, Seg=4, RotY=0, TX=0,color=\"green\", Opacity=1)\n",
    "\n",
    "    p2pCyl(zz, centerP, radius=0, modName=\"Cyl00\", plus=cpl*CL, Seg=1, RotY=0, TX=0, color=\"green\", Opacity=1)\n",
    "\n",
    "\n",
    "    #         p2pCyl(P2, centerP, radius=1, modName=\"Cyl00\", plus=clineL, Seg=4, RotY=0, TX=-1, color=\"green\", Opacity=1)\n",
    "    data = Pcoord(\"Cyl00\")[1]\n",
    "    AddPoint(data)\n",
    "    # 垂直平分线长度\n",
    "    if i == 0:\n",
    "      cPl = np.array([zz])\n",
    "    else:\n",
    "      cPl = np.append([cPl,zz])\n",
    "    #         modN = slicer.util.getNode(\"cFace\")\n",
    "    #         slicer.mrmlScene.RemoveNode(modN)\n",
    "    #         modN = slicer.util.getNode(\"Cyl00\")\n",
    "    #         slicer.mrmlScene.RemoveNode(modN)\n",
    "    if i == 0:\n",
    "      Data = P2\n",
    "      Data = np.append(Data,data)\n",
    "      Data = np.append(Data,P3)\n",
    "      Data = np.append(Data,data)\n",
    "    else:\n",
    "      Data = np.append(Data,P2)\n",
    "      Data = np.append(Data,data)\n",
    "      Data = np.append(Data,P3)\n",
    "      Data = np.append(Data,data)\n",
    "\n",
    "  Data = np.array(Data.reshape(Data.shape[0]//6,2,3))\n",
    "  return(Data)"
   ]
  },
  {
   "cell_type": "markdown",
   "metadata": {},
   "source": [
    "### 显示钉"
   ]
  },
  {
   "cell_type": "code",
   "execution_count": null,
   "metadata": {},
   "outputs": [],
   "source": [
    "def Screws(fidName=\"T\",screwR=2):\n",
    "\n",
    "  FidP = Pdata3(fidName)  # 获取数据坐标\n",
    "  P0 = FidP[:,0,:]\n",
    "  P1 = FidP[:,1,:]\n",
    "  # P0 = FidP[0]\n",
    "  fids = FidP.shape[0] # 组数\n",
    "  Screwl = []\n",
    "  for i in range(fids):\n",
    "    PZ = P0[i]  # 最窄点\n",
    "    PT = P1[i]  # 椎前点\n",
    "    #     AddPoint(PZ,\"PZ\",3)\n",
    "    P2P = np.linalg.norm(PT - PZ)  # 最窄的到椎前点的距离\n",
    "    seg = 4\n",
    "    Axis_p2 = Lpcoord(PT,PZ)\n",
    "    AddPoint(Axis_p2)\n",
    "    boneP = sRayCast(Axis_p2,PT, \"Bonetempt\")# 入骨点坐标\n",
    "\n",
    "    bonep = \"boneP%s\" % i\n",
    "    AddPoint(boneP,bonep,1) # 标记入骨点\n",
    "    screwtip = sRayCast(boneP,PT,\"cface0\")\n",
    "    screwl = np.linalg.norm(np.array([screwtip]) - np.array([boneP]))\n",
    "    for ii in range (20, 75, 5):\n",
    "      L = ii - screwl\n",
    "      if 0< L <= 5:\n",
    "        screwL=ii\n",
    "    #             break\n",
    "    Screwl.append(screwL)\n",
    "    LL = np.linalg.norm(np.array([PT]) - np.array([boneP]))\n",
    "    p2pCyl(boneP,PT,screwR,\"screw%s\"%i,screwL-LL,8,0,0,\"red\",1)\n",
    "  #   modN = slicer.util.getNode(\"cface0\")\n",
    "  #   slicer.mrmlScene.RemoveNode(modN)\n",
    "\n",
    "\n",
    "\n",
    "  return(Screwl)"
   ]
  },
  {
   "cell_type": "code",
   "execution_count": null,
   "metadata": {},
   "outputs": [],
   "source": [
    "Screws(\"F\")"
   ]
  },
  {
   "cell_type": "markdown",
   "metadata": {},
   "source": [
    "### 沙盘测试"
   ]
  },
  {
   "cell_type": "code",
   "execution_count": 421,
   "metadata": {
    "lines_to_next_cell": 2
   },
   "outputs": [],
   "source": [
    "P2P = np.linalg.norm(P1 - P2)  # 最窄的到椎前点的距离\n",
    "seg = 4\n",
    "Axis_p2 = Lpcoord(P2,P1)\n",
    "logging.debug(Axis_p2)\n",
    "boneP = sRayCast(Axis_p2,P1, \"Bonetempt\")# 入骨点坐标\n",
    "bonep = \"boneP%s\" % i"
   ]
  },
  {
   "cell_type": "code",
   "execution_count": 422,
   "metadata": {},
   "outputs": [
    {
     "data": {
      "text/plain": [
       "(10.31633186340332, 211.78538513183594, -155.4287872314453)"
      ]
     },
     "execution_count": 422,
     "metadata": {},
     "output_type": "execute_result"
    }
   ],
   "source": [
    "screwtip = sRayCast(boneP,P1,\"cface0\")\n",
    "screwtip"
   ]
  },
  {
   "cell_type": "code",
   "execution_count": 400,
   "metadata": {
    "lines_to_end_of_cell_marker": 2
   },
   "outputs": [
    {
     "ename": "TypeError",
     "evalue": "unsupported operand type(s) for -: 'tuple' and 'tuple'",
     "output_type": "error",
     "traceback": [
      "\u001B[0;31m---------------------------------------------------------------------------\u001B[0m\n\u001B[0;31mTypeError\u001B[0m                                 Traceback (most recent call last)",
      "In  \u001B[0;34m[400]\u001B[0m:\nLine \u001B[0;34m1\u001B[0m:     \n",
      "\u001B[0;31mTypeError\u001B[0m: unsupported operand type(s) for -: 'tuple' and 'tuple'\n\u001B[0;31m---------------------------------------------------------------------------\u001B[0m"
     ]
    }
   ],
   "source": [
    "screwl = np.linalg.norm(screwtip - boneP)"
   ]
  },
  {
   "cell_type": "code",
   "execution_count": 426,
   "metadata": {
    "lines_to_next_cell": 2
   },
   "outputs": [],
   "source": [
    "AddPoint(P1)"
   ]
  },
  {
   "cell_type": "code",
   "execution_count": 281,
   "metadata": {},
   "outputs": [],
   "source": [
    "p2pCyl(P1, P2, radius=0, modName=\"Cyl00\", plus=length, Seg=1, RotY=0, TX=0, color=\"cyan\", Opacity=1)\n",
    "data = Pcoord(\"Cyl00\")[0]\n",
    "AddPoint(data)\n",
    "p2pline(P1,data)\n",
    "modN = slicer.util.getNode(\"Cyl00\")\n",
    "slicer.mrmlScene.RemoveNode(modN)"
   ]
  },
  {
   "cell_type": "code",
   "execution_count": 284,
   "metadata": {},
   "outputs": [],
   "source": [
    "Screws"
   ]
  },
  {
   "cell_type": "markdown",
   "metadata": {},
   "source": [
    "#### 横向调整\n",
    "##### 取3个关键点（-。5--1--3）"
   ]
  },
  {
   "cell_type": "code",
   "execution_count": 482,
   "metadata": {},
   "outputs": [
    {
     "ename": "ValueError",
     "evalue": "The truth value of an array with more than one element is ambiguous. Use a.any() or a.all()",
     "output_type": "error",
     "traceback": [
      "\u001B[0;31m---------------------------------------------------------------------------\u001B[0m\n\u001B[0;31mValueError\u001B[0m                                Traceback (most recent call last)",
      "In  \u001B[0;34m[482]\u001B[0m:\nLine \u001B[0;34m1\u001B[0m:     \n",
      "In  \u001B[0;34m[472]\u001B[0m:\nLine \u001B[0;34m3\u001B[0m:     \n",
      "In  \u001B[0;34m[471]\u001B[0m:\nLine \u001B[0;34m19\u001B[0m:    \n",
      "\u001B[0;31mValueError\u001B[0m: The truth value of an array with more than one element is ambiguous. Use a.any() or a.all()\n\u001B[0;31m---------------------------------------------------------------------------\u001B[0m"
     ]
    }
   ],
   "source": [
    "Screws(\"F\")"
   ]
  },
  {
   "cell_type": "code",
   "execution_count": 478,
   "metadata": {
    "tags": []
   },
   "outputs": [],
   "source": [
    "data  = Pdata(\"F\",3)\n",
    "# data1 = Pdata(\"F\",3)\n",
    "# data2  = Pdata3(\"F\",3)\n",
    "# p2pline(data0[0,0],data1[0,0])\n",
    "# p2pline(data2[0,0],data1[0,0])\n",
    "#xx = Data.shape[0]"
   ]
  },
  {
   "cell_type": "code",
   "execution_count": 479,
   "metadata": {
    "tags": []
   },
   "outputs": [
    {
     "data": {
      "text/plain": [
       "array([[[   5.2       ,  225.692     , -156.179     ],\n",
       "        [  15.42888786,  197.87877371, -154.67856762],\n",
       "        [  -4.18671396,  197.58600353, -154.67856762]]])"
      ]
     },
     "execution_count": 479,
     "metadata": {},
     "output_type": "execute_result"
    }
   ],
   "source": [
    "data"
   ]
  },
  {
   "cell_type": "code",
   "execution_count": 481,
   "metadata": {
    "tags": []
   },
   "outputs": [],
   "source": [
    "P2 = data[0,0]\n",
    "P1 = data[0,1]"
   ]
  },
  {
   "cell_type": "code",
   "execution_count": null,
   "metadata": {},
   "outputs": [],
   "source": [
    "sRayCast(Axis_p2,P1, \"Bonetempt\")"
   ]
  },
  {
   "cell_type": "code",
   "execution_count": 272,
   "metadata": {},
   "outputs": [
    {
     "data": {
      "text/plain": [
       "15.68925477633742"
      ]
     },
     "execution_count": 272,
     "metadata": {},
     "output_type": "execute_result"
    }
   ],
   "source": [
    "\n",
    "cpl = np.linalg.norm(centerP-zz) # 垂直平分线长度\n",
    "X = np.linalg.norm(P2 - P3)*.5\n",
    "Pc = .5*(P2+P3)\n",
    "Y = np.linalg.norm(P1 - Pc)*.5\n",
    "angleA = math.degrees(math.atan(Y/X))\n",
    "# angleA\n",
    "L = X*math.tan(math.radians(angleA+3))\n",
    "\n",
    "p2pCyl(Pc,P1,0,\"axis\",L-cpl,1,0,0,\"red\",1)\n",
    "cP = Pcoord(\"axis\")\n",
    "p2pCyl(cP,Pz,ScrewR,ScrewLebel,lengeh,6,0,0,\"blue\",1)\n"
   ]
  },
  {
   "cell_type": "code",
   "execution_count": 226,
   "metadata": {},
   "outputs": [],
   "source": [
    "p2pCyl(zz, centerP, radius=0, modName=\"Cyl00\", plus=cpl*1, Seg=1, RotY=0, TX=0, color=\"green\", Opacity=1)"
   ]
  },
  {
   "cell_type": "code",
   "execution_count": 232,
   "metadata": {},
   "outputs": [],
   "source": [
    "data = Pcoord(\"Cyl00\")\n",
    "AddPoint(data[1])"
   ]
  },
  {
   "cell_type": "code",
   "execution_count": 259,
   "metadata": {
    "lines_to_next_cell": 2,
    "tags": []
   },
   "outputs": [
    {
     "ename": "ValueError",
     "evalue": "all the input arrays must have same number of dimensions, but the array at index 0 has 1 dimension(s) and the array at index 1 has 3 dimension(s)",
     "output_type": "error",
     "traceback": [
      "\u001B[0;31m---------------------------------------------------------------------------\u001B[0m\n\u001B[0;31mValueError\u001B[0m                                Traceback (most recent call last)",
      "In  \u001B[0;34m[259]\u001B[0m:\nLine \u001B[0;34m22\u001B[0m:    \n",
      "File \u001B[0;34m<__array_function__ internals>\u001B[0m, in \u001B[0;32mappend\u001B[0m:\nLine \u001B[0;34m6\u001B[0m:     \n",
      "File \u001B[0;34m/Applications/Slicer 3.app/Contents/lib/Python/lib/python3.6/site-packages/numpy/lib/function_base.py\u001B[0m, in \u001B[0;32mappend\u001B[0m:\nLine \u001B[0;34m4671\u001B[0m:  \u001B[34mreturn\u001B[39;49;00m concatenate((arr, values), axis=axis)\n",
      "File \u001B[0;34m<__array_function__ internals>\u001B[0m, in \u001B[0;32mconcatenate\u001B[0m:\nLine \u001B[0;34m6\u001B[0m:     \n",
      "\u001B[0;31mValueError\u001B[0m: all the input arrays must have same number of dimensions, but the array at index 0 has 1 dimension(s) and the array at index 1 has 3 dimension(s)\n\u001B[0;31m---------------------------------------------------------------------------\u001B[0m"
     ]
    }
   ],
   "source": [
    "CL = [-.5,0,3]\n",
    "for ii, v in enumerate(CL):\n",
    "  data = Pdata3(\"F\",v)\n",
    "  for i in range(2):\n",
    "    #     zuobiao = []\n",
    "    P1 = data[i,0]\n",
    "    P2 = data[i,1]\n",
    "    no = ii*2\n",
    "    No = \"axis_%s\"%no\n",
    "    p2pCyl(P2,P1,2,No,20,4,0,0,\"green\",1)\n",
    "    zuobiao = Pcoord(No)\n",
    "    zhongdian = (zuobiao[0]+zuobiao[4])*.5\n",
    "    AddPoint(zhongdian)\n",
    "    if i == 0:\n",
    "      ZB = np.array([zhongdian])\n",
    "    else:\n",
    "      ZB = np.append(ZB, np.array([zhongdian]), axis = 0)\n",
    "  ZBB = np.array([])\n",
    "  if ii == -.5:\n",
    "    ZBB = np.array([ZB])\n",
    "  else:\n",
    "    ZBB = np.append(ZBB, np.array([ZB]), axis= 0)\n",
    "Pl01=(ZBB[0,0]+ZBB[1,0])*.5\n",
    "Pl12=(ZBB[2,0]+ZBB[1,0])*.5\n",
    "Pr01=(ZBB[0,1]+ZBB[1,1])*.5\n",
    "Pr12=(ZBB[2,1]+ZBB[1,1])*.5\n",
    "Pl = Pdata3(\"F\",0)[0,0]\n",
    "Pr = Pdata3(\"F\",0)[1,0]\n",
    "p2pCyl(Pl01,Pl,2,\"axis_%s\"%1,20,4,0,0,\"green\",1)\n",
    "p2pCyl(Pl12,Pl,2,\"axis_%s\"%3,20,4,0,0,\"green\",1)\n",
    "p2pCyl(Pr01,Pr,2,\"axis_%s\"%1,20,4,0,0,\"green\",1)\n",
    "p2pCyl(Pr12,Pr,2,\"axis_%s\"%3,20,4,0,0,\"green\",1)\n"
   ]
  },
  {
   "cell_type": "code",
   "execution_count": 100,
   "metadata": {
    "tags": []
   },
   "outputs": [
    {
     "name": "stdout",
     "output_type": "stream",
     "text": [
      "0 -0.5\n",
      "2 0\n",
      "4 3\n"
     ]
    }
   ],
   "source": [
    "CL = [-.5,0,3]\n",
    "for ii, v in enumerate(CL):\n",
    "  print(ii*2,v)"
   ]
  },
  {
   "cell_type": "code",
   "execution_count": 89,
   "metadata": {
    "tags": []
   },
   "outputs": [
    {
     "data": {
      "text/plain": [
       "(3, 2, 3)"
      ]
     },
     "execution_count": 89,
     "metadata": {},
     "output_type": "execute_result"
    }
   ],
   "source": [
    "ZBB.shape"
   ]
  },
  {
   "cell_type": "markdown",
   "metadata": {},
   "source": [
    "#####  取P1中点"
   ]
  },
  {
   "cell_type": "code",
   "execution_count": 104,
   "metadata": {
    "tags": []
   },
   "outputs": [],
   "source": [
    "Node = getNode('bone')\n",
    "DisplayNode = Node.GetDisplayNode()\n",
    "DisplayNode.SetVisibility(True) # Hide all points"
   ]
  },
  {
   "cell_type": "code",
   "execution_count": 26,
   "metadata": {
    "tags": []
   },
   "outputs": [],
   "source": [
    "data01 = .5*(data0[0,0]+data1[0,0])\n",
    "AddPoint(data01)"
   ]
  },
  {
   "cell_type": "code",
   "execution_count": 61,
   "metadata": {
    "tags": []
   },
   "outputs": [
    {
     "data": {
      "text/plain": [
       "array([[  -9.72998238,  177.8343277 , -153.34186554],\n",
       "       [  22.38219357,  179.47812653, -154.33469391]])"
      ]
     },
     "execution_count": 61,
     "metadata": {},
     "output_type": "execute_result"
    }
   ],
   "source": [
    "ZB"
   ]
  },
  {
   "cell_type": "code",
   "execution_count": 49,
   "metadata": {
    "tags": []
   },
   "outputs": [
    {
     "data": {
      "text/plain": [
       "array([[[  -4.08214705,  197.00335719, -154.14831543],\n",
       "        [   0.80931318,  309.55984497, -158.0579071 ]],\n",
       "\n",
       "       [[  15.08734448,  198.09578304, -154.74470339],\n",
       "        [   0.80931318,  309.55984497, -158.0579071 ]]])"
      ]
     },
     "execution_count": 49,
     "metadata": {},
     "output_type": "execute_result"
    }
   ],
   "source": [
    "data1 = Data\n",
    "data1"
   ]
  },
  {
   "cell_type": "markdown",
   "metadata": {},
   "source": [
    "##### 中切面"
   ]
  },
  {
   "cell_type": "code",
   "execution_count": 53,
   "metadata": {
    "tags": []
   },
   "outputs": [],
   "source": [
    "P1 = data1[0,0]\n",
    "P2 = data1[1,0]\n",
    "Pc = .5*(P1+P2)\n",
    "P2P = np.linalg.norm(Pc - P1)\n",
    "\n",
    "p2pCyl(Pc,P1,160,\"cFace\",-1*P2P,4,0,0,\"pink\",1)"
   ]
  },
  {
   "cell_type": "code",
   "execution_count": 26,
   "metadata": {},
   "outputs": [],
   "source": [
    "PP0 = data1[0,1]\n",
    "PP1 = PP0+[20,0,0]\n",
    "PP11 = PP0+[-20,0,0]\n",
    "\n",
    "\n",
    "# sRayCast(PP0, PP1,\"cFace\")"
   ]
  },
  {
   "cell_type": "code",
   "execution_count": 80,
   "metadata": {},
   "outputs": [],
   "source": [
    "AddPoint(sRayCast(PP0, PP11,\"cFace\"))"
   ]
  },
  {
   "cell_type": "code",
   "execution_count": 37,
   "metadata": {},
   "outputs": [
    {
     "ename": "NameError",
     "evalue": "name 'modleName' is not defined",
     "output_type": "error",
     "traceback": [
      "\u001B[0;31m---------------------------------------------------------------------------\u001B[0m\n\u001B[0;31mNameError\u001B[0m                                 Traceback (most recent call last)",
      "In  \u001B[0;34m[37]\u001B[0m:\nLine \u001B[0;34m1\u001B[0m:     \n",
      "In  \u001B[0;34m[29]\u001B[0m:\nLine \u001B[0;34m18\u001B[0m:    \n",
      "\u001B[0;31mNameError\u001B[0m: name 'modleName' is not defined\n\u001B[0;31m---------------------------------------------------------------------------\u001B[0m"
     ]
    }
   ],
   "source": [
    "def centerP():"
   ]
  },
  {
   "cell_type": "code",
   "execution_count": null,
   "metadata": {},
   "outputs": [],
   "source": []
  },
  {
   "cell_type": "markdown",
   "metadata": {},
   "source": [
    "### 做横切面\n",
    "[Set slice position and orientation from 3 markup fiducials](https://www.slicer.org/wiki/Documentation/Nightly/ScriptRepository#Measure_angle_between_two_slice_planes)\n",
    "通过三个点，使得Red面reform\n"
   ]
  },
  {
   "cell_type": "code",
   "execution_count": 60,
   "metadata": {
    "tags": []
   },
   "outputs": [
    {
     "data": {
      "text/plain": [
       "9.604926836973958"
      ]
     },
     "execution_count": 60,
     "metadata": {},
     "output_type": "execute_result"
    }
   ],
   "source": [
    "P2P"
   ]
  },
  {
   "cell_type": "code",
   "execution_count": null,
   "metadata": {
    "tags": []
   },
   "outputs": [],
   "source": [
    "p2pCyl(centerP, P3, radius=1, modName=\"Cyl00\", plus=clineL*CL, Seg=1, RotY=0, TX=-1, color=\"green\", Opacity=1)"
   ]
  },
  {
   "cell_type": "code",
   "execution_count": 8,
   "metadata": {
    "tags": []
   },
   "outputs": [
    {
     "name": "stdout",
     "output_type": "stream",
     "text": [
      "6 islands created (2096 ignored)\n",
      "7 islands created (2068 ignored)\n"
     ]
    },
    {
     "data": {
      "text/plain": [
       "()"
      ]
     },
     "execution_count": 8,
     "metadata": {},
     "output_type": "execute_result"
    }
   ],
   "source": [
    "skinSur(VolumeNode='CT-chest', MiniThresd=\"-300\", NodeName=\"Skintempt\", color=\"white\", opacity=.6)\n",
    "skinSur(VolumeNode='CT-chest', MiniThresd=\"150\", NodeName=\"Bonetempt\", color=\"black\", opacity=.1)"
   ]
  },
  {
   "cell_type": "markdown",
   "metadata": {},
   "source": [
    "### 从坐标求面积"
   ]
  },
  {
   "cell_type": "code",
   "execution_count": 13,
   "metadata": {},
   "outputs": [],
   "source": [
    "def vertebral_zD(P1,P2,P3):\n",
    "  side0 = np.linalg.norm(P2-P1)\n",
    "  side1 = np.linalg.norm(P3-P1)\n",
    "  side2 = np.linalg.norm(P3-P2)\n",
    "  # 利用海伦公式。s=sqr(p*(p-a)(p-b)(p-c))\n",
    "  p = (side0+side1+side2)/2 # 半周长\n",
    "  area = (p*(p-side0)*(p-side1)*(p-side2))**0.5\n",
    "  return(area/side0*2)"
   ]
  },
  {
   "cell_type": "code",
   "execution_count": 14,
   "metadata": {
    "ExecuteTime": {
     "end_time": "2020-10-24T06:15:24.819185Z",
     "start_time": "2020-10-24T06:15:24.816552Z"
    }
   },
   "outputs": [
    {
     "name": "stdout",
     "output_type": "stream",
     "text": [
      "32.620786858981674\n"
     ]
    }
   ],
   "source": [
    "area = TriArea(P1,P2,P3)\n",
    "print(area)"
   ]
  },
  {
   "cell_type": "markdown",
   "metadata": {},
   "source": [
    "### 尺子德芙"
   ]
  },
  {
   "cell_type": "code",
   "execution_count": 82,
   "metadata": {},
   "outputs": [
    {
     "ename": "AttributeError",
     "evalue": "'function' object has no attribute 'numFids'",
     "output_type": "error",
     "traceback": [
      "\u001B[0;31m---------------------------------------------------------------------------\u001B[0m\n\u001B[0;31mAttributeError\u001B[0m                            Traceback (most recent call last)",
      "In  \u001B[0;34m[82]\u001B[0m:\nLine \u001B[0;34m1\u001B[0m:     \n",
      "\u001B[0;31mAttributeError\u001B[0m: 'function' object has no attribute 'numFids'\n\u001B[0;31m---------------------------------------------------------------------------\u001B[0m"
     ]
    }
   ],
   "source": [
    "numFids"
   ]
  },
  {
   "cell_type": "code",
   "execution_count": 12,
   "metadata": {},
   "outputs": [
    {
     "ename": "TypeError",
     "evalue": "Subtract argument 1: expected a sequence of 3 values, got numpy.float64",
     "output_type": "error",
     "traceback": [
      "\u001B[0;31m---------------------------------------------------------------------------\u001B[0m\n\u001B[0;31mTypeError\u001B[0m                                 Traceback (most recent call last)",
      "In  \u001B[0;34m[12]\u001B[0m:\nLine \u001B[0;34m1\u001B[0m:     \n",
      "In  \u001B[0;34m[5]\u001B[0m:\nLine \u001B[0;34m25\u001B[0m:    \n",
      "\u001B[0;31mTypeError\u001B[0m: Subtract argument 1: expected a sequence of 3 values, got numpy.float64\n\u001B[0;31m---------------------------------------------------------------------------\u001B[0m"
     ]
    }
   ],
   "source": [
    "p2pCyl(P1, P3, radius=1, modName=\"Cyl00\", plus=100, Seg=2, RotY=0, TX=-1, color=\"green\", Opacity=1)"
   ]
  },
  {
   "cell_type": "code",
   "execution_count": 47,
   "metadata": {},
   "outputs": [],
   "source": [
    "clineL = np.linalg.norm(P3-centerP)\n",
    "\n",
    "p2pCyl(zz[0], P1, radius = 1, modName = \"Cyl00\", plus = clineL, Seg = 3, RotY = 0, TX = -1, color = \"green\",Opacity = 1)"
   ]
  },
  {
   "cell_type": "code",
   "execution_count": 18,
   "metadata": {},
   "outputs": [],
   "source": [
    "for i in range(0,data.shape[0]):\n",
    "  pp0 = Pdata3()[i,0,:]\n",
    "  pp1 = Pdata3()[i,1,:]\n",
    "  p2pCyl(pp1, pp0, radius = 10, modName = \"Cyl000\", plus = 100, Seg = 1, RotY = 0, TX = -10,color = \"green\",Opacity = 1)\n",
    "  p2pCyl(pp1, pp0, radius = 1, modName = \"Cyl00\", plus = 5, Seg = 3, RotY = 0, TX = -1,color = \"blue\",Opacity = .6)"
   ]
  },
  {
   "cell_type": "code",
   "execution_count": 65,
   "metadata": {},
   "outputs": [
    {
     "data": {
      "text/plain": [
       "array([-197.0597229 , -201.33206177,  159.77024841])"
      ]
     },
     "execution_count": 65,
     "metadata": {},
     "output_type": "execute_result"
    }
   ],
   "source": [
    "Axis_p2[1]"
   ]
  },
  {
   "cell_type": "code",
   "execution_count": 23,
   "metadata": {},
   "outputs": [
    {
     "name": "stdout",
     "output_type": "stream",
     "text": [
      "((-35.292694091796875, -122.9182357788086, -54.0883674621582), 91.18938027606472)\n"
     ]
    }
   ],
   "source": [
    "axis = sRayCast(axis_2P[1],axis_2P[0],\"Skintempt\")\n",
    "print (axis)"
   ]
  },
  {
   "cell_type": "code",
   "execution_count": 33,
   "metadata": {},
   "outputs": [
    {
     "data": {
      "text/plain": [
       "(226.74679565429688, 69.61011505126953, -167.89523315429688)"
      ]
     },
     "execution_count": 33,
     "metadata": {},
     "output_type": "execute_result"
    }
   ],
   "source": [
    "axis[0]"
   ]
  },
  {
   "cell_type": "code",
   "execution_count": 32,
   "metadata": {},
   "outputs": [
    {
     "data": {
      "text/plain": [
       "(226.74679565429688, 69.61011505126953, -167.89523315429688)"
      ]
     },
     "execution_count": 32,
     "metadata": {},
     "output_type": "execute_result"
    }
   ],
   "source": [
    "skin2bone = sRayCast(axis[0], zz[2], \"Bonetempt\")"
   ]
  },
  {
   "cell_type": "code",
   "execution_count": 29,
   "metadata": {},
   "outputs": [],
   "source": [
    "AddPoint(axis[0])"
   ]
  },
  {
   "cell_type": "markdown",
   "metadata": {},
   "source": [
    "### 3点定三角"
   ]
  },
  {
   "cell_type": "code",
   "execution_count": 8,
   "metadata": {
    "ExecuteTime": {
     "end_time": "2020-10-24T20:49:55.115828Z",
     "start_time": "2020-10-24T20:49:55.112661Z"
    }
   },
   "outputs": [],
   "source": [
    "def triangle3P(p0,p1,p2,color = \"green\"):\n",
    "  Points = vtk.vtkPoints()\n",
    "  Triangles = vtk.vtkCellArray()\n",
    "\n",
    "  Points.InsertNextPoint(p0)\n",
    "  Points.InsertNextPoint(p1)\n",
    "  Points.InsertNextPoint(p2)\n",
    "\n",
    "  Triangle = vtk.vtkTriangle();\n",
    "  Triangle.GetPointIds().SetId(0, 0);\n",
    "  Triangle.GetPointIds().SetId(1, 1);\n",
    "  Triangle.GetPointIds().SetId(2, 2);\n",
    "  Triangles.InsertNextCell(Triangle);\n",
    "\n",
    "  polydata = vtk.vtkPolyData()\n",
    "  polydata.SetPoints(Points)\n",
    "  polydata.SetPolys(Triangles)\n",
    "\n",
    "  model = slicer.modules.models.logic().AddModel(polydata)\n",
    "\n",
    "  # Tune display properties\n",
    "  modelDisplay = model.GetDisplayNode()\n",
    "  modelDisplay.SetColor(myColor(color)) # yellow\n",
    "  modelDisplay.SetOpacity(0.5)\n",
    "  modelDisplay.SetBackfaceCulling(0)\n",
    "\n",
    "\n"
   ]
  },
  {
   "cell_type": "markdown",
   "metadata": {},
   "source": [
    "### 3点定平面grid"
   ]
  },
  {
   "cell_type": "code",
   "execution_count": 17,
   "metadata": {
    "ExecuteTime": {
     "end_time": "2020-10-24T18:44:11.950646Z",
     "start_time": "2020-10-24T18:44:11.932217Z"
    }
   },
   "outputs": [],
   "source": [
    "def plane3P(p0,p1,p2):\n",
    "  # Create model node\n",
    "  planeSource = vtk.vtkPlaneSource()\n",
    "  planeSource.SetOrigin(p0)\n",
    "  planeSource.SetPoint1(p1)\n",
    "  planeSource.SetPoint2(p2)\n",
    "  planeSource.SetXResolution(2)\n",
    "  planeSource.SetYResolution(2)\n",
    "  model = slicer.modules.models.logic().AddModel(planeSource.GetOutputPort())\n",
    "\n",
    "  # Tune display properties\n",
    "  modelDisplay = model.GetDisplayNode()\n",
    "  modelDisplay.SetColor(0,0,1) # yellow\n",
    "  modelDisplay.SetOpacity(0.5)\n",
    "  modelDisplay.SetBackfaceCulling(0)\n",
    "\n",
    "  # # Add texture (just use image of an ellipsoid)\n",
    "  e = vtk.vtkImageGridSource()\n",
    "  e.SetDataSpacing(5.0,5.0,5.0)\n",
    "  modelDisplay.SetTextureImageDataConnection(e.GetOutputPort())"
   ]
  },
  {
   "cell_type": "code",
   "execution_count": 15,
   "metadata": {},
   "outputs": [
    {
     "data": {
      "text/plain": [
       "array([[[  -1.14865005,  197.02999878, -152.56509399],\n",
       "        [   4.06251001,  225.97920227, -156.38540649]],\n",
       "\n",
       "       [[  11.29459953,  198.32299805, -155.06950378],\n",
       "        [   4.06251001,  225.97920227, -156.38540649]]])"
      ]
     },
     "execution_count": 15,
     "metadata": {},
     "output_type": "execute_result"
    }
   ],
   "source": [
    "data1 = Pdata3(\"F\", 0)\n",
    "data1"
   ]
  },
  {
   "cell_type": "code",
   "execution_count": 18,
   "metadata": {},
   "outputs": [],
   "source": [
    "plane3P(data1[0,1],data1[0,0],data1[1,0])"
   ]
  },
  {
   "cell_type": "markdown",
   "metadata": {},
   "source": [
    "### 大循环"
   ]
  },
  {
   "cell_type": "code",
   "execution_count": null,
   "metadata": {
    "ExecuteTime": {
     "end_time": "2020-10-25T04:34:56.370408Z",
     "start_time": "2020-10-25T04:34:56.368117Z"
    }
   },
   "outputs": [],
   "source": [
    "# ##大循环: 获取\n",
    "def DoLoop(fidName):\n",
    "  #     fidName=\"F\"\n",
    "  FidP =Pdata(fidName) # 获取数据\n",
    "  #     P0 = FidP[0]\n",
    "  fids = FidP.shape[0] # 组数\n",
    "  #     skinSur('1020_2') # 大模板\n",
    "  skinSur(VolumeNode = '1020_3',MiniThresd = \"150\",NodeName = \"Bonetempt\",color = \"blue\",opacity=1)\n",
    "  skinSur(VolumeNode = '1020_3',MiniThresd = \"-300\",NodeName = \"Skintempt\",color = \"yellow\",opacity=.5)\n",
    "  colors = [\"red\",\"green\",\"white\",\"cyan\"]\n",
    "  # XY = []\n",
    "  for angle, color in enumerate(colors):\n",
    "    roty = 90*angle\n",
    "    for i in range(fids):\n",
    "      PO = FidP[i][0] # 入皮点\n",
    "      PT = FidP[i][1] # 靶点\n",
    "      seg = 3\n",
    "      modName = \"N%s%s\"%(angle,i)\n",
    "      modN = \"N\"\n",
    "      AddPoint(PO)\n",
    "      Cyl12 =p2pCyl(PT,PO,10,modName,20,seg,roty) # 建一个3棱柱\n",
    "      coord =Pcoord(modName) # 得到棱柱的坐标\n",
    "      modNode =slicer.util.getNode(modName)\n",
    "      slicer.mrmlScene.RemoveNode(modNode) # 删掉棱柱\n",
    "\n",
    "      L = []\n",
    "      XYZ = []\n",
    "      for j in range(seg): # 棱柱坐标和模板的交点\n",
    "        aaa = sRayCast(coord[2*j],coord[2*j+1],\"Skintempt\")\n",
    "        leng = aaa[1]\n",
    "        XYZ = aaa[0]\n",
    "        AddPoint(XYZ)\n",
    "        L = np.append(L, leng) # 长度\n",
    "        if j == 0:\n",
    "          xyz = np.array([XYZ])\n",
    "        else:\n",
    "          xyz = np.append(xyz, np.array([XYZ]),axis=0) # 交点坐标\n",
    "      minL = min(L) # 求出长度最小值\n",
    "      min_index = np.argmin(L) # ndarray最小值索引\n",
    "\n",
    "      tabL = np.around(L-minL+10,2)\n",
    "      tableNode=slicer.mrmlScene.AddNewNodeByClass(\"vtkMRMLTableNode\")\n",
    "      tableNode.SetName(\"xyzL_table\")\n",
    "      updateTableFromArray(tableNode, tuple(tabL))\n",
    "      ml=slicer.modules.markups.logic()\n",
    "      newLandmarksNodeID = ml.AddNewFiducialNode(\"Clock_%s%s\"%(i,roty)) # 交点成组\n",
    "\n",
    "      p2pline(PT, PO, modName)\n",
    "\n",
    "      p2pline(xyz[min_index], PO, modName)\n",
    "\n",
    "      triangle3P(xyz[0],xyz[1],xyz[2],color)\n",
    "      # # # 每个循环截屏一次,无法同步\n",
    "      # #             renderWindow = slicer.app.layoutManager().threeDWidget(0).threeDView().renderWindow()\n",
    "      # #             renderWindow.SetAlphaBitPlanes(1)\n",
    "      # #             wti = vtk.vtkWindowToImageFilter()\n",
    "      # #             wti.SetInputBufferTypeToRGBA()\n",
    "      # #             wti.SetInput(renderWindow)\n",
    "      # #             writer = vtk.vtkPNGWriter()\n",
    "      # #             writer.SetFileName(\"shortcut/screenshot_%s-%s.png\"%(i,roty))\n",
    "      # #             writer.SetInputConnection(wti.GetOutputPort())\n",
    "      # #             writer.Write()\n",
    "\n",
    "\n",
    "\n",
    "      for ii, v in enumerate(xyz):\n",
    "        fidNode = slicer.mrmlScene.GetNodeByID(newLandmarksNodeID)\n",
    "        n = fidNode.AddFiducial(v[0],v[1],v[2])\n",
    "        fidNode.SetNthFiducialLabel(n, \"%s\"%tabL[ii])\n",
    "      #         #     XYZ = []\n",
    "      if i ==0:\n",
    "        XY=[xyz]\n",
    "        Length=np.array([tabL])\n",
    "      else:\n",
    "        XY=np.append(XY, [xyz],axis = 0)\n",
    "        Length=np.append(Length, np.array([tabL]),axis = 0)\n",
    "  #     data=np.array(Mdata).ravel()\n",
    "  #     zcount = int(data.size/6)\n",
    "  #     data = np.array(data.reshape(zcount, 2, 3))\n",
    "  return ()\n",
    "# renderWindow = slicer.app.layoutManager().threeDWidget(0).threeDView().renderWindow()\n",
    "# renderWindow.SetAlphaBitPlanes(1)\n",
    "# wti = vtk.vtkWindowToImageFilter()\n",
    "# wti.SetInputBufferTypeToRGBA()\n",
    "# wti.SetInput(renderWindow)\n",
    "# writer = vtk.vtkPNGWriter()\n",
    "# writer.SetFileName(\"screenshot.png\")\n",
    "# writer.SetInputConnection(wti.GetOutputPort())\n",
    "# writer.Write()"
   ]
  },
  {
   "cell_type": "code",
   "execution_count": null,
   "metadata": {
    "ExecuteTime": {
     "end_time": "2020-10-25T04:36:19.438356Z",
     "start_time": "2020-10-25T04:36:11.908797Z"
    },
    "lines_to_next_cell": 2
   },
   "outputs": [],
   "source": [
    "XYZL = DoLoop(\"F\")"
   ]
  },
  {
   "cell_type": "code",
   "execution_count": 100,
   "metadata": {
    "ExecuteTime": {
     "end_time": "2020-10-24T20:24:15.344721Z",
     "start_time": "2020-10-24T20:24:15.318474Z"
    }
   },
   "outputs": [
    {
     "data": {
      "text/plain": [
       "array([[[ 27.06436348,   5.98488712,  92.4755249 ],\n",
       "        [ 19.32126999,  -3.46115136, 104.78932953],\n",
       "        [ 13.99338531,  -4.77115917,  88.32833099]],\n",
       "\n",
       "       [[-19.23415947,  -1.69604027,  86.92528534],\n",
       "        [-19.88726425,  -2.53067756, 104.22116089],\n",
       "        [-30.6495285 ,   8.43087006,  95.57241058]],\n",
       "\n",
       "       [[-19.21258354,  -1.36595595,  71.66811371],\n",
       "        [-19.2217598 ,  -1.87269425,  89.04682922],\n",
       "        [-29.64843178,   9.3817997 ,  80.48151398]],\n",
       "\n",
       "       [[-18.90452957,  -1.70819497,  55.7275238 ],\n",
       "        [-18.77264977,  -1.83685625,  73.08963013],\n",
       "        [-29.51259804,   9.06407166,  64.39335632]],\n",
       "\n",
       "       [[ 25.60038567,   7.95990562,  63.94112778],\n",
       "        [ 16.40051079,  -2.82455254,  74.15718079],\n",
       "        [ 14.26823902,  -3.31291032,  56.97288132]],\n",
       "\n",
       "       [[ 28.68374634,   8.90022755,  80.70050049],\n",
       "        [ 18.38935089,  -2.3036015 ,  89.82970428],\n",
       "        [ 16.94962502,  -1.50591063,  72.58277893]]])"
      ]
     },
     "execution_count": 100,
     "metadata": {},
     "output_type": "execute_result"
    }
   ],
   "source": [
    "XYZL[1]"
   ]
  },
  {
   "cell_type": "markdown",
   "metadata": {},
   "source": [
    "### 三棱柱显示"
   ]
  },
  {
   "cell_type": "code",
   "execution_count": 26,
   "metadata": {
    "lines_to_next_cell": 2
   },
   "outputs": [],
   "source": [
    "fidName=\"T\"\n",
    "FidP =Pdata(fidName) # 获取数据\n",
    "fids = FidP.shape[0] # 组数\n",
    "skinSur(VolumeNode = 'pigsp',MiniThresd = \"150\",NodeName = \"Bonetempt\",color = \"blue\",opacity=1)\n",
    "skinSur(VolumeNode = 'pigsp',MiniThresd = \"-300\",NodeName = \"Skintempt\",color = \"yellow\",opacity=.5)\n",
    "colors = [\"red\",\"green\",\"white\",\"cyan\"]"
   ]
  },
  {
   "cell_type": "markdown",
   "metadata": {},
   "source": [
    "### 旋转三棱柱"
   ]
  },
  {
   "cell_type": "code",
   "execution_count": 27,
   "metadata": {},
   "outputs": [],
   "source": [
    "# 需要先删除再做一个旋转的棱柱\n",
    "roty = 90\n",
    "for i in range(fids):\n",
    "  PO = FidP[i][0] # 入皮点\n",
    "  PT = FidP[i][1] # 靶点\n",
    "  seg = 3\n",
    "  modName = \"N%s\"%(i)\n",
    "  #     AddPoint(PO)\n",
    "  Cyl12 =p2pCyl(PT,PO,10,modName,10,seg,roty,\"black\",0.6) # 建一个3棱柱"
   ]
  },
  {
   "cell_type": "markdown",
   "metadata": {},
   "source": [
    "### 获取落脚点"
   ]
  },
  {
   "cell_type": "code",
   "execution_count": null,
   "metadata": {},
   "outputs": [],
   "source": [
    "coord =Pcoord(modName) # 得到棱柱的坐标\n",
    "modNode =slicer.util.getNode(modName)\n",
    "slicer.mrmlScene.RemoveNode(modNode) # 删掉棱柱"
   ]
  },
  {
   "cell_type": "code",
   "execution_count": null,
   "metadata": {},
   "outputs": [],
   "source": [
    "L = []\n",
    "XYZ = []\n",
    "for j in range(seg): # 棱柱坐标和模板的交点\n",
    "  aaa = sRayCast(coord[2*j],coord[2*j+1],\"Skintempt\")\n",
    "  leng = aaa[1]\n",
    "  XYZ = aaa[0]\n",
    "  AddPoint(XYZ)\n",
    "  L = np.append(L, leng) # 长度\n",
    "  if j == 0:\n",
    "    xyz = np.array([XYZ])\n",
    "  else:\n",
    "    xyz = np.append(xyz, np.array([XYZ]),axis=0) # 交点坐标\n",
    "minL = min(L) # 求出长度最小值\n",
    "min_index = np.argmin(L) # ndarray最小值索引"
   ]
  },
  {
   "cell_type": "code",
   "execution_count": null,
   "metadata": {},
   "outputs": [],
   "source": [
    "tabL = np.around(L-minL+10,2)\n",
    "tableNode=slicer.mrmlScene.AddNewNodeByClass(\"vtkMRMLTableNode\")\n",
    "tableNode.SetName(\"xyzL_table\")\n",
    "updateTableFromArray(tableNode, tuple(tabL))\n",
    "ml=slicer.modules.markups.logic()\n",
    "newLandmarksNodeID = ml.AddNewFiducialNode(\"Clock_%s%s\"%(i,roty)) # 交点成组"
   ]
  },
  {
   "cell_type": "code",
   "execution_count": null,
   "metadata": {},
   "outputs": [],
   "source": [
    "p2pline(PT, PO, modName)"
   ]
  },
  {
   "cell_type": "code",
   "execution_count": null,
   "metadata": {},
   "outputs": [],
   "source": [
    "p2pline(xyz[min_index], PO, modName)"
   ]
  },
  {
   "cell_type": "code",
   "execution_count": null,
   "metadata": {},
   "outputs": [],
   "source": [
    "triangle3P(xyz[0],xyz[1],xyz[2],color)\n",
    "# # # 每个循环截屏一次,无法同步            \n",
    "# #             renderWindow = slicer.app.layoutManager().threeDWidget(0).threeDView().renderWindow()\n",
    "# #             renderWindow.SetAlphaBitPlanes(1)\n",
    "# #             wti = vtk.vtkWindowToImageFilter()\n",
    "# #             wti.SetInputBufferTypeToRGBA()\n",
    "# #             wti.SetInput(renderWindow)\n",
    "# #             writer = vtk.vtkPNGWriter()\n",
    "# #             writer.SetFileName(\"shortcut/screenshot_%s-%s.png\"%(i,roty))\n",
    "# #             writer.SetInputConnection(wti.GetOutputPort())\n",
    "# #             writer.Write()"
   ]
  },
  {
   "cell_type": "code",
   "execution_count": null,
   "metadata": {},
   "outputs": [],
   "source": []
  },
  {
   "cell_type": "code",
   "execution_count": null,
   "metadata": {},
   "outputs": [],
   "source": [
    "for ii, v in enumerate(xyz):\n",
    "  fidNode = slicer.mrmlScene.GetNodeByID(newLandmarksNodeID)\n",
    "  n = fidNode.AddFiducial(v[0],v[1],v[2])\n",
    "  fidNode.SetNthFiducialLabel(n, \"%s\"%tabL[ii])\n",
    "#         #     XYZ = []\n",
    "if i ==0:\n",
    "  XY=[xyz]\n",
    "  Length=np.array([tabL])\n",
    "else:\n",
    "  XY=np.append(XY, [xyz],axis = 0)\n",
    "  Length=np.append(Length, np.array([tabL]),axis = 0)"
   ]
  },
  {
   "cell_type": "code",
   "execution_count": 29,
   "metadata": {
    "lines_to_next_cell": 2
   },
   "outputs": [],
   "source": [
    "try:\n",
    "  slicer.util.getNode(\"Bonetempt\")\n",
    "except:\n",
    "  print(\"no\")"
   ]
  },
  {
   "cell_type": "code",
   "execution_count": null,
   "metadata": {},
   "outputs": [],
   "source": [
    "segmentationNode =slicer.util.getNode(('Segmentation')\n",
    "segmentId = 'Segment_1'\n",
    "\n",
    "# Get array voxel coordinates\n",
    "import numpy as np\n",
    "seg=arrayFromSegment(segmentation_node, segmentId)\n",
    "# numpy array has voxel coordinates in reverse order (KJI instead of IJK)\n",
    "# and the array is cropped to minimum size in the segmentation\n",
    "mean_KjiCropped = [coords.mean() for coords in np.nonzero(seg)]\n",
    "\n",
    "# Get segmentation voxel coordinates\n",
    "segImage = segmentationNode.GetBinaryLabelmapRepresentation(segmentId)\n",
    "segImageExtent = segImage.GetExtent()\n",
    "# origin of the array in voxel coordinates is determined by the start extent\n",
    "mean_Ijk = [mean_KjiCropped[2], mean_KjiCropped[1], mean_KjiCropped[0]] + np.array([segImageExtent[0], segImageExtent[2], segImageExtent[4]])\n",
    "\n",
    "# Get segmentation physical coordinates\n",
    "ijkToWorld = vtk.vtkMatrix4x4()\n",
    "segImage.GetImageToWorldMatrix(ijkToWorld)\n",
    "mean_World = [0, 0, 0, 1]\n",
    "ijkToRas.MultiplyPoint(np.append(mean_Ijk,1.0), mean_World)\n",
    "mean_World = mean_World[0:3]\n",
    "\n",
    "# If segmentation node is transformed, apply that transform to get RAS coordinates\n",
    "transformWorldToRas = vtk.vtkGeneralTransform()\n",
    "slicer.vtkMRMLTransformNode.GetTransformBetweenNodes(segmentationNode.GetParentTransformNode(), None, transformWorldToRas)\n",
    "mean_Ras = transformWorldToRas.TransformPoint(mean_World)\n",
    "\n",
    "# Show mean position value and jump to it in all slice viewers\n",
    "print(mean_Ras)\n",
    "slicer.modules.markups.logic().JumpSlicesToLocation(mean_Ras[0], mean_Ras[1], mean_Ras[2], True)"
   ]
  },
  {
   "cell_type": "code",
   "execution_count": 33,
   "metadata": {
    "ExecuteTime": {
     "end_time": "2020-10-22T11:59:25.306652Z",
     "start_time": "2020-10-22T11:59:25.191718Z"
    }
   },
   "outputs": [
    {
     "name": "stdout",
     "output_type": "stream",
     "text": [
      "vtkMatrix4x4 (0x7f9a15551dc0)\n",
      "  Debug: Off\n",
      "  Modified Time: 194825592\n",
      "  Reference Count: 1\n",
      "  Registered Events: (none)\n",
      "  Elements:\n",
      "    0.291016 0 0 -74.4893 \n",
      "    0 0.291016 0 -52.0306 \n",
      "    0 0 1.25 -65 \n",
      "    0 0 0 1 \n",
      "\n",
      "\n"
     ]
    }
   ],
   "source": [
    "# Inputs\n",
    "volumeNode =slicer.util.getNode(('1020_2')\n",
    "markupsNode =slicer.util.getNode(('F')\n",
    "\n",
    "# Get voxel position in IJK coordinate system\n",
    "import numpy as np\n",
    "volumeArray = slicer.util.arrayFromVolume(volumeNode)\n",
    "# Get position of highest voxel value\n",
    "point_Kji = np.where(volumeArray == volumeArray.max())\n",
    "point_Ijk = [point_Kji[2][0], point_Kji[1][0], point_Kji[0][0]]\n",
    "\n",
    "# Get physical coordinates from voxel coordinates\n",
    "volumeIjkToRas = vtk.vtkMatrix4x4()\n",
    "volumeNode.GetIJKToRASMatrix(volumeIjkToRas)\n",
    "point_VolumeRas = [0, 0, 0, 1]\n",
    "volumeIjkToRas.MultiplyPoint(np.append(point_Ijk,1.0), point_VolumeRas)\n",
    "\n",
    "# If volume node is transformed, apply that transform to get volume's RAS coordinates\n",
    "transformVolumeRasToRas = vtk.vtkGeneralTransform()\n",
    "slicer.vtkMRMLTransformNode.GetTransformBetweenNodes(volumeNode.GetParentTransformNode(), None, transformVolumeRasToRas)\n",
    "point_Ras = transformVolumeRasToRas.TransformPoint(point_VolumeRas[0:3])\n",
    "\n",
    "# Add a markup at the computed position and print its coordinates\n",
    "markupsNode.AddFiducial(point_Ras[0], point_Ras[1], point_Ras[2], \"max\")\n",
    "print(volumeIjkToRas)"
   ]
  },
  {
   "cell_type": "code",
   "execution_count": 34,
   "metadata": {
    "ExecuteTime": {
     "end_time": "2020-10-22T13:00:51.485626Z",
     "start_time": "2020-10-22T13:00:51.443081Z"
    }
   },
   "outputs": [],
   "source": [
    "def planeFit(points):\n",
    "  \"\"\"\n",
    "  p, n = planeFit(points)\n",
    "\n",
    "  Given an array, points, of shape (d,...)\n",
    "  representing points in d-dimensional space,\n",
    "  fit an d-dimensional plane to the points.\n",
    "  Return a point, p, on the plane (the point-cloud centroid),\n",
    "  and the normal, n.\n",
    "  \"\"\"\n",
    "  import numpy as np\n",
    "  from numpy.linalg import svd\n",
    "  points = np.reshape(points, (np.shape(points)[0], -1)) # Collapse trialing dimensions\n",
    "  assert points.shape[0] <= points.shape[1], \"There are only {} points in {} dimensions.\".format(points.shape[1], points.shape[0])\n",
    "  ctr = points.mean(axis=1)\n",
    "  x = points - ctr[:,np.newaxis]\n",
    "  M = np.dot(x, x.T) # Could also use np.cov(x) here.\n",
    "  return ctr, svd(M)[0][:,-1]"
   ]
  },
  {
   "cell_type": "code",
   "execution_count": 38,
   "metadata": {
    "ExecuteTime": {
     "end_time": "2020-10-22T13:06:43.129940Z",
     "start_time": "2020-10-22T13:06:42.985881Z"
    }
   },
   "outputs": [
    {
     "data": {
      "text/plain": [
       "(array([ -8.97545815, -13.21340942, -15.08805831]), array([-0.12095286, -0.25668639,  0.9588965 ]))"
      ]
     },
     "execution_count": 38,
     "metadata": {},
     "output_type": "execute_result"
    }
   ],
   "source": [
    "planeFit(XYZL[1][0])"
   ]
  },
  {
   "cell_type": "code",
   "execution_count": 89,
   "metadata": {
    "ExecuteTime": {
     "end_time": "2020-10-24T19:39:11.188703Z",
     "start_time": "2020-10-24T19:39:11.131302Z"
    }
   },
   "outputs": [
    {
     "data": {
      "text/plain": [
       "1"
      ]
     },
     "execution_count": 89,
     "metadata": {},
     "output_type": "execute_result"
    }
   ],
   "source": [
    "Points = vtk.vtkPoints()\n",
    "Triangles = vtk.vtkCellArray()\n",
    "\n",
    "Points.InsertNextPoint(1.0, 0.0, 0.0)\n",
    "Points.InsertNextPoint(0.0, 0.0, 0.0)\n",
    "Points.InsertNextPoint(0.0, 1.0, 0.0)\n",
    "\n",
    "Triangle = vtk.vtkTriangle();\n",
    "Triangle.GetPointIds().SetId(0, 0);\n",
    "Triangle.GetPointIds().SetId(1, 1);\n",
    "Triangle.GetPointIds().SetId(2, 2);\n",
    "Triangles.InsertNextCell(Triangle);\n",
    "\n",
    "#setup colors (setting the name to \"Colors\" is nice but not necessary)\n",
    "Colors = vtk.vtkUnsignedCharArray();\n",
    "Colors.SetNumberOfComponents(3);\n",
    "Colors.SetName(\"Colors\");\n",
    "Colors.InsertNextTuple3(255,0,0);\n",
    "\n",
    "polydata = vtk.vtkPolyData()\n",
    "polydata.SetPoints(Points)\n",
    "polydata.SetPolys(Triangles)\n",
    "\n",
    "polydata.GetCellData().SetScalars(Colors);\n",
    "polydata.Modified()\n",
    "if vtk.VTK_MAJOR_VERSION <= 5:\n",
    "  polydata.Update()\n",
    "\n",
    "writer = vtk.vtkXMLPolyDataWriter();\n",
    "writer.SetFileName(\"TriangleSolidColor.vtp\");\n",
    "if vtk.VTK_MAJOR_VERSION <= 5:\n",
    "  writer.SetInput(polydata)\n",
    "else:\n",
    "  writer.SetInputData(polydata)\n",
    "writer.Write()"
   ]
  },
  {
   "cell_type": "code",
   "execution_count": 54,
   "metadata": {},
   "outputs": [],
   "source": [
    "def TriPrism(fidName = \"F\"):\n",
    "  FidP = Pdata(fidName)  # 获取数据\n",
    "  P0 = FidP[:,0,:]\n",
    "  P1 = FidP[:,1,:]\n",
    "  # P0 = FidP[0]\n",
    "  fids = FidP.shape[0]  # 组数\n",
    "  # skinSur('pigsp')  # 大模板\n",
    "  # XY = []\n",
    "  for i in range(fids):\n",
    "    PO = P0[i] # 入皮点\n",
    "    PT = P1[i]  # 靶点\n",
    "    P2P = np.linalg.norm(PT - PO)  # 入皮点和靶点的距离\n",
    "    seg = 3\n",
    "    modName = \"triPri%s\" % i\n",
    "    modN = \"N\"\n",
    "    skin2bone = sRayCast(PO, PT, \"Bonetempt\")\n",
    "    S2B = skin2bone[1]  # 入皮点到骨面的距离\n",
    "    B2B = P2P - S2B  # 骨内长度\n",
    "    SBArr = np.array([S2B, B2B])  # 皮骨长度数组\n",
    "    SBArr = np.around(SBArr, 2)\n",
    "    tableNode = slicer.mrmlScene.AddNewNodeByClass(\"vtkMRMLTableNode\")  #\n",
    "    tableNode.SetName(\"SB_table%s\" % i)\n",
    "    slicer.util.updateTableFromArray(tableNode, tuple(SBArr))\n",
    "    # AddPoint(PO) # 标记入皮点\n",
    "    Cyl3 = p2pCyl(PT, PO, 10, modName, 2, seg, 0, \"black\", 0.6)  # 建一个3棱柱\n",
    "    if i == 0:\n",
    "      SBL = [SBArr]\n",
    "    else:\n",
    "      SBL = np.append(SBL, [SBArr], axis=0)\n",
    "  return(P0,P1,SBL)"
   ]
  },
  {
   "cell_type": "code",
   "execution_count": 58,
   "metadata": {},
   "outputs": [],
   "source": [
    "SBL = TriPrism()"
   ]
  },
  {
   "cell_type": "code",
   "execution_count": 60,
   "metadata": {},
   "outputs": [
    {
     "data": {
      "text/plain": [
       "12.09"
      ]
     },
     "execution_count": 60,
     "metadata": {},
     "output_type": "execute_result"
    }
   ],
   "source": [
    "SBL[2][0,0]"
   ]
  },
  {
   "cell_type": "code",
   "execution_count": 22,
   "metadata": {},
   "outputs": [],
   "source": [
    "def DisTab(modName,PO):\n",
    "  # PO = Pdata(\"T\")\n",
    "  seg = 3\n",
    "  coord = Pcoord(modName)  # 得到3棱柱的坐标\n",
    "  modNode = slicer.util.getNode(modName)\n",
    "  slicer.mrmlScene.RemoveNode(modNode)  # 删掉3棱柱\n",
    "\n",
    "  L = []\n",
    "  XYZ = []\n",
    "  for j in range(seg):  # 3棱柱坐标和模板的交点\n",
    "    aaa = sRayCast(coord[2 * j], coord[2 * j + 1], \"Skintempt\")\n",
    "    leng = aaa[1]\n",
    "    XYZ = aaa[0]\n",
    "    # AddPoint(XYZ)\n",
    "    L = np.append(L, leng)  # 长度\n",
    "    if j == 0:\n",
    "      xyz = np.array([XYZ])\n",
    "    else:\n",
    "      xyz = np.append(xyz, np.array([XYZ]), axis=0)\n",
    "  minL = min(L)  # 按每列求出长度最小值的索引\n",
    "  min_index = np.argmin(L)  # ndarray最小值索引\n",
    "  tabL = np.around(L - minL + 10, 2)\n",
    "  tableNode = slicer.mrmlScene.AddNewNodeByClass(\"vtkMRMLTableNode\")\n",
    "  tableNode.SetName(\"xyzL\")\n",
    "  slicer.util.updateTableFromArray(tableNode, tuple(tabL))\n",
    "  ml = slicer.modules.markups.logic()\n",
    "  Dpoint = xyz[min_index]\n",
    "  Rpoint = xyz[min_index+1 if min_index != 2 else 0]\n",
    "  Lpoint = xyz[min_index-1 if min_index != 0 else 2]\n",
    "\n",
    "\n",
    "  newLandmarksNodeID = ml.AddNewFiducialNode(\"Clock\")  # 交点成组\n",
    "  AddPoint(Lpoint,color = \"black\")\n",
    "  AddPoint(Dpoint,color = \"red\")\n",
    "  AddPoint(Rpoint,color = \"red\")\n",
    "  p2pCyl(Dpoint, PO, .2, \"N\", 10, seg)\n",
    "  p2pCyl(PO, Dpoint, .2, \"N\", 10, seg)\n",
    "  p2pCyl(Lpoint, Rpoint, .2, \"N\", 10, seg)\n",
    "  p2pCyl(Rpoint, Lpoint, .2, \"N\", 10, seg)\n",
    "  triangle3P(xyz[0],xyz[1],xyz[2])\n",
    "  for ii, v in enumerate(xyz):\n",
    "    fidNode = slicer.mrmlScene.GetNodeByID(newLandmarksNodeID)\n",
    "    n = fidNode.AddFiducial(v[0],v[1],v[2])\n",
    "    fidNode.SetNthFiducialLabel(n, \"%s\"%tabL[ii])\n",
    "  return(xyz,tabL)"
   ]
  },
  {
   "cell_type": "code",
   "execution_count": 23,
   "metadata": {},
   "outputs": [
    {
     "ename": "MRMLNodeNotFoundException",
     "evalue": "could not find nodes in the scene by name or id 'triPri1'",
     "output_type": "error",
     "traceback": [
      "\u001B[0;31m---------------------------------------------------------------------------\u001B[0m\n\u001B[0;31mMRMLNodeNotFoundException\u001B[0m                 Traceback (most recent call last)",
      "In  \u001B[0;34m[23]\u001B[0m:\nLine \u001B[0;34m3\u001B[0m:     \n",
      "In  \u001B[0;34m[22]\u001B[0m:\nLine \u001B[0;34m4\u001B[0m:     \n",
      "In  \u001B[0;34m[6]\u001B[0m:\nLine \u001B[0;34m5\u001B[0m:     \n",
      "File \u001B[0;34m/Applications/Slicer 3.app/Contents/bin/Python/slicer/util.py\u001B[0m, in \u001B[0;32mgetNode\u001B[0m:\nLine \u001B[0;34m1137\u001B[0m:  \u001B[34mraise\u001B[39;49;00m MRMLNodeNotFoundException(\u001B[33m\"\u001B[39;49;00m\u001B[33mcould not find nodes in the scene by name or id \u001B[39;49;00m\u001B[33m'\u001B[39;49;00m\u001B[33m%s\u001B[39;49;00m\u001B[33m'\u001B[39;49;00m\u001B[33m\"\u001B[39;49;00m % (pattern \u001B[34mif\u001B[39;49;00m (\u001B[36misinstance\u001B[39;49;00m(pattern, \u001B[36mstr\u001B[39;49;00m)) \u001B[34melse\u001B[39;49;00m \u001B[33m\"\u001B[39;49;00m\u001B[33m\"\u001B[39;49;00m))\n",
      "\u001B[0;31mMRMLNodeNotFoundException\u001B[0m: could not find nodes in the scene by name or id 'triPri1'\n\u001B[0;31m---------------------------------------------------------------------------\u001B[0m"
     ]
    }
   ],
   "source": [
    "P0 = [-166.08001223158104,-168.6570030006596,16.874999999999996]\n",
    "\n",
    "xyzL = DisTab(\"triPri1\",P0)"
   ]
  },
  {
   "cell_type": "code",
   "execution_count": 21,
   "metadata": {},
   "outputs": [
    {
     "data": {
      "text/plain": [
       "(array([[173.33372498, 163.57589722,  21.76644897],\n",
       "       [160.11338806, 174.84855652,  21.98277092],\n",
       "       [167.24505615, 169.99867249,   6.87577963]]), array([3.5362676 , 2.15904076, 3.77251653]))"
      ]
     },
     "execution_count": 21,
     "metadata": {},
     "output_type": "execute_result"
    }
   ],
   "source": [
    "xyzL"
   ]
  },
  {
   "cell_type": "markdown",
   "metadata": {},
   "source": [
    "### 保存和导入"
   ]
  },
  {
   "cell_type": "code",
   "execution_count": 24,
   "metadata": {},
   "outputs": [
    {
     "ename": "ModuleNotFoundError",
     "evalue": "No module named 'pandas'",
     "output_type": "error",
     "traceback": [
      "\u001B[0;31m---------------------------------------------------------------------------\u001B[0m\n\u001B[0;31mModuleNotFoundError\u001B[0m                       Traceback (most recent call last)",
      "In  \u001B[0;34m[24]\u001B[0m:\nLine \u001B[0;34m4\u001B[0m:     \n",
      "\u001B[0;31mModuleNotFoundError\u001B[0m: No module named 'pandas'\n\u001B[0;31m---------------------------------------------------------------------------\u001B[0m"
     ]
    },
    {
     "name": "stderr",
     "output_type": "stream",
     "text": [
      "Traceback (most recent call last):\n",
      "  File \"<console>\", line 1, in <module>\n",
      "ModuleNotFoundError: No module named 'pandas'\n",
      "  File \"<console>\", line 1\n",
      "    pip install pandas\n",
      "              ^\n",
      "SyntaxError: invalid syntax\n"
     ]
    }
   ],
   "source": [
    "import csv, codecs\n",
    "import os\n",
    "import io\n",
    "import pandas as pd"
   ]
  },
  {
   "cell_type": "code",
   "execution_count": 4,
   "metadata": {},
   "outputs": [],
   "source": [
    "renderWindow = slicer.app.layoutManager().threeDWidget(0).threeDView().renderWindow()\n",
    "renderWindow.SetAlphaBitPlanes(1)\n",
    "wti = vtk.vtkWindowToImageFilter()\n",
    "wti.SetInputBufferTypeToRGBA()\n",
    "wti.SetInput(renderWindow)\n",
    "writer = vtk.vtkPNGWriter()\n",
    "writer.SetFileName(\"shortcut/screenshot.png\")\n",
    "writer.SetInputConnection(wti.GetOutputPort())\n",
    "writer.Write()"
   ]
  },
  {
   "cell_type": "code",
   "execution_count": null,
   "metadata": {
    "lines_to_next_cell": 2
   },
   "outputs": [],
   "source": [
    "renderWindow = slicer.app.layoutManager().threeDWidget(0).threeDView().renderWindow()\n",
    "renderWindow.SetAlphaBitPlanes(1)\n",
    "wti = vtk.vtkWindowToImageFilter()\n",
    "wti.SetInputBufferTypeToRGBA()\n",
    "wti.SetInput(renderWindow)\n",
    "writer = vtk.vtkPNGWriter()\n",
    "writer.SetFileName(\"c:/tmp/screenshot.png\")\n",
    "writer.SetInputConnection(wti.GetOutputPort())\n",
    "writer.Write()"
   ]
  },
  {
   "cell_type": "code",
   "execution_count": 14,
   "metadata": {},
   "outputs": [
    {
     "ename": "NameError",
     "evalue": "name 'threeDView' is not defined",
     "output_type": "error",
     "traceback": [
      "\u001B[0;31m---------------------------------------------------------------------------\u001B[0m\n\u001B[0;31mNameError\u001B[0m                                 Traceback (most recent call last)",
      "In  \u001B[0;34m[14]\u001B[0m:\nLine \u001B[0;34m1\u001B[0m:     \n",
      "\u001B[0;31mNameError\u001B[0m: name 'threeDView' is not defined\n\u001B[0;31m---------------------------------------------------------------------------\u001B[0m"
     ]
    }
   ],
   "source": [
    "mrmlViewNode = threeDView.mrmlViewNode()\n",
    "cameraNodes = slicer.util.getNodes( 'vtkMRMLCamera*' )\n",
    "# cameraNode = None\n",
    "for c in cameraNodes.items():\n",
    "  cameraNode = c[1]\n",
    "  if cameraNode.GetActiveTag() == mrmlViewNode.GetID():\n",
    "    # found the cameraNode\n",
    "    break\n",
    "if not cameraNode:\n",
    "  raise Exception( 'Something went terribly wrong..' )\n",
    "camera = cameraNode.GetCamera()\n",
    "cameraPosition = str( camera.GetPosition() )\n",
    "cameraUp = str( camera.GetViewUp() )"
   ]
  },
  {
   "cell_type": "markdown",
   "metadata": {},
   "source": [
    "### gradeStep "
   ]
  },
  {
   "cell_type": "code",
   "execution_count": null,
   "metadata": {},
   "outputs": [],
   "source": [
    "def cropScrew(self,input, area):\n",
    "  #Get bounds of screw\n",
    "  bounds = input.GetPolyData().GetBounds()\n",
    "  logging.debug(bounds)\n",
    "\n",
    "  #Define bounds for cropping out the head or shaft of the screw respectively\n",
    "  if area == 'head':\n",
    "    i = bounds[2]\n",
    "    j = bounds[3]-17\n",
    "  elif area == 'shaft':\n",
    "    i = bounds[3]-17\n",
    "    j = bounds[3]\n",
    "\n",
    "  #Create a box with bounds equal to that of the screw minus the head (-17)\n",
    "  cropBox = vtk.vtkBox()\n",
    "  cropBox.SetBounds(bounds[0],bounds[1],i,j,bounds[4],bounds[5])\n",
    "\n",
    "  #Crop out head of screw\n",
    "  extract = vtk.vtkExtractPolyDataGeometry()\n",
    "  extract.SetImplicitFunction(cropBox)\n",
    "  extract.SetInputData(input.GetPolyData())\n",
    "  extract.Update()\n",
    "\n",
    "  #PolyData of cropped screw\n",
    "  output = extract.GetOutput()\n",
    "  return output"
   ]
  },
  {
   "cell_type": "code",
   "execution_count": 81,
   "metadata": {
    "lines_to_next_cell": 2
   },
   "outputs": [],
   "source": [
    "P1 = data1[0,0]\n",
    "P2 = data1[0,1]\n",
    "p2pCyl(P2,P1,2,\"axis\",4,4,0,0,\"green\",1)\n",
    "zuobiao = Pcoord(\"axis\")\n",
    "zhongdian = (zuobiao[0]+zuobiao[4])*.5 # 0和4是P1对角线坐标\n",
    "P33 = zhongdian+([0,0,10])\n",
    "p2pCyl(P2,P33,2,\"axis\",4,4,0,0,\"green\",1)"
   ]
  }
 ],
 "metadata": {
  "celltoolbar": "Tags",
  "jupytext": {
   "encoding": "# -*- coding: utf-8 -*-"
  },
  "kernelspec": {
   "display_name": "Slicer 4.11",
   "language": "python",
   "name": "slicer-4.11"
  },
  "language_info": {
   "file_extension": ".py",
   "mimetype": "text/x-python",
   "name": "python",
   "version": "3.6.7"
  },
  "nbTranslate": {
   "displayLangs": [
    "cn",
    "en"
   ],
   "hotkey": "alt-t",
   "langInMainMenu": true,
   "sourceLang": "en",
   "targetLang": "cn",
   "useGoogleTranslate": true
  },
  "toc": {
   "base_numbering": 1,
   "nav_menu": {},
   "number_sections": false,
   "sideBar": true,
   "skip_h1_title": false,
   "title_cell": "Table of Contents",
   "title_sidebar": "Contents",
   "toc_cell": false,
   "toc_position": {
    "height": "616.055px",
    "left": "26px",
    "top": "129.453px",
    "width": "231.68px"
   },
   "toc_section_display": true,
   "toc_window_display": true
  },
  "toc-showcode": false,
  "toc-showtags": false
 },
 "nbformat": 4,
 "nbformat_minor": 4
}